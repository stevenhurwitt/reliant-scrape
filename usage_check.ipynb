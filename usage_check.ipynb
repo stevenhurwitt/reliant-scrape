{
 "cells": [
  {
   "cell_type": "markdown",
   "metadata": {},
   "source": [
    "# usage check"
   ]
  },
  {
   "cell_type": "code",
<<<<<<< HEAD
   "execution_count": 4,
=======
<<<<<<< HEAD
   "execution_count": 13,
=======
   "execution_count": 2,
>>>>>>> 1d8107d78a69963a4401ad34288dcf6a8e3883fe
>>>>>>> 9b65bb973ebd0d022fc1b067c9452f26563d6629
   "metadata": {},
   "outputs": [
    {
     "output_type": "stream",
     "name": "stdout",
     "text": [
      "Collecting package metadata (current_repodata.json): done\n",
      "Solving environment: failed with initial frozen solve. Retrying with flexible solve.\n",
      "Collecting package metadata (repodata.json): done\n",
      "Solving environment: failed with initial frozen solve. Retrying with flexible solve.\n",
      "\n",
      "PackagesNotFoundError: The following packages are not available from current channels:\n",
      "\n",
      "  - my-sql-connector\n",
      "\n",
      "Current channels:\n",
      "\n",
      "  - https://conda.anaconda.org/conda-forge/linux-64\n",
      "  - https://conda.anaconda.org/conda-forge/noarch\n",
      "  - https://repo.anaconda.com/pkgs/main/linux-64\n",
      "  - https://repo.anaconda.com/pkgs/main/noarch\n",
      "  - https://repo.anaconda.com/pkgs/r/linux-64\n",
      "  - https://repo.anaconda.com/pkgs/r/noarch\n",
      "\n",
      "To search for alternate channels that may provide the conda package you're\n",
      "looking for, navigate to\n",
      "\n",
      "    https://anaconda.org\n",
      "\n",
      "and use the search bar at the top of the page.\n",
      "\n",
      "\n"
     ]
    }
   ],
   "source": [
    "! conda install -c conda-forge -y my-sql-connector"
   ]
  },
  {
   "cell_type": "code",
   "execution_count": 1,
   "metadata": {},
   "outputs": [
    {
     "ename": "ModuleNotFoundError",
     "evalue": "No module named 'mysql'",
     "output_type": "error",
     "traceback": [
      "\u001b[0;31m---------------------------------------------------------------------------\u001b[0m",
      "\u001b[0;31mModuleNotFoundError\u001b[0m                       Traceback (most recent call last)",
      "\u001b[0;32m<ipython-input-1-ffba6320ac03>\u001b[0m in \u001b[0;36m<module>\u001b[0;34m\u001b[0m\n\u001b[1;32m      3\u001b[0m \u001b[0;32mfrom\u001b[0m \u001b[0mIPython\u001b[0m\u001b[0;34m.\u001b[0m\u001b[0mdisplay\u001b[0m \u001b[0;32mimport\u001b[0m \u001b[0mdisplay\u001b[0m\u001b[0;34m\u001b[0m\u001b[0;34m\u001b[0m\u001b[0m\n\u001b[1;32m      4\u001b[0m \u001b[0;32mimport\u001b[0m \u001b[0mmatplotlib\u001b[0m\u001b[0;34m.\u001b[0m\u001b[0mpyplot\u001b[0m \u001b[0;32mas\u001b[0m \u001b[0mplt\u001b[0m\u001b[0;34m\u001b[0m\u001b[0;34m\u001b[0m\u001b[0m\n\u001b[0;32m----> 5\u001b[0;31m \u001b[0;32mimport\u001b[0m \u001b[0mreliant_scrape\u001b[0m \u001b[0;32mas\u001b[0m \u001b[0mrs\u001b[0m\u001b[0;34m\u001b[0m\u001b[0;34m\u001b[0m\u001b[0m\n\u001b[0m\u001b[1;32m      6\u001b[0m \u001b[0;32mimport\u001b[0m \u001b[0mmysql\u001b[0m\u001b[0;34m.\u001b[0m\u001b[0mconnector\u001b[0m\u001b[0;34m\u001b[0m\u001b[0;34m\u001b[0m\u001b[0m\n\u001b[1;32m      7\u001b[0m \u001b[0;32mimport\u001b[0m \u001b[0mpandas\u001b[0m \u001b[0;32mas\u001b[0m \u001b[0mpd\u001b[0m\u001b[0;34m\u001b[0m\u001b[0;34m\u001b[0m\u001b[0m\n",
      "\u001b[0;32m/media/steven/big_boi/reliant-scrape/reliant_scrape.py\u001b[0m in \u001b[0;36m<module>\u001b[0;34m\u001b[0m\n\u001b[1;32m      8\u001b[0m \u001b[0;32mfrom\u001b[0m \u001b[0mdatetime\u001b[0m \u001b[0;32mimport\u001b[0m \u001b[0mdatetime\u001b[0m\u001b[0;34m,\u001b[0m \u001b[0mtimedelta\u001b[0m\u001b[0;34m\u001b[0m\u001b[0;34m\u001b[0m\u001b[0m\n\u001b[1;32m      9\u001b[0m \u001b[0;32mfrom\u001b[0m \u001b[0mbs4\u001b[0m \u001b[0;32mimport\u001b[0m \u001b[0mBeautifulSoup\u001b[0m\u001b[0;34m\u001b[0m\u001b[0;34m\u001b[0m\u001b[0m\n\u001b[0;32m---> 10\u001b[0;31m \u001b[0;32mimport\u001b[0m \u001b[0mmysql\u001b[0m\u001b[0;34m.\u001b[0m\u001b[0mconnector\u001b[0m\u001b[0;34m\u001b[0m\u001b[0;34m\u001b[0m\u001b[0m\n\u001b[0m\u001b[1;32m     11\u001b[0m \u001b[0;32mimport\u001b[0m \u001b[0mpandas\u001b[0m \u001b[0;32mas\u001b[0m \u001b[0mpd\u001b[0m\u001b[0;34m\u001b[0m\u001b[0;34m\u001b[0m\u001b[0m\n\u001b[1;32m     12\u001b[0m \u001b[0;32mimport\u001b[0m \u001b[0mnumpy\u001b[0m \u001b[0;32mas\u001b[0m \u001b[0mnp\u001b[0m\u001b[0;34m\u001b[0m\u001b[0;34m\u001b[0m\u001b[0m\n",
      "\u001b[0;31mModuleNotFoundError\u001b[0m: No module named 'mysql'"
     ]
    }
   ],
   "source": [
    "from sqlalchemy import create_engine, types\n",
    "from datetime import datetime, timedelta\n",
    "from IPython.display import display\n",
    "import matplotlib.pyplot as plt\n",
    "import reliant_scrape as rs\n",
    "import mysql.connector\n",
    "import pandas as pd\n",
    "import numpy as np\n",
    "import pprint\n",
    "import boto3\n",
    "import boto\n",
    "import json\n",
    "import sys\n",
    "import os\n",
    "\n",
    "base = os.path.join('Users', 'stevenhurwitt', 'Documents', 'reliant-scrape')\n",
    "data = os.path.join(base, 'data')\n",
    "pp = pprint.PrettyPrinter(indent = 1)\n",
    "\n",
    "with open('db_creds.json', 'r') as f:\n",
    "    db_creds = json.load(f)\n",
    "print('imported modules')"
   ]
  },
  {
   "cell_type": "markdown",
   "metadata": {},
   "source": [
    "## get dataset"
   ]
  },
  {
   "cell_type": "code",
   "execution_count": 5,
   "metadata": {},
   "outputs": [
    {
     "output_type": "stream",
     "name": "stdout",
     "text": [
      "data has data types: Date           datetime64[ns]\nUsage (kWh)           float64\nCost ($)              float64\nHi                      int64\nLow                     int64\ndtype: object.\ndata has shape: (1272, 5)\n"
     ]
    }
   ],
   "source": [
    "master = rs.mysql_query('SELECT * FROM reliant_energy_db.daily_use', db_creds)\n",
    "print('data has data types: {}.'.format(master.dtypes))\n",
    "print('data has shape: {}'.format(master.shape))"
   ]
  },
  {
   "cell_type": "code",
   "execution_count": 6,
   "metadata": {},
   "outputs": [
    {
     "output_type": "execute_result",
     "data": {
      "text/plain": [
       "    min_date            max_date  count\n",
       "0 2020-08-25 2020-10-24 23:00:00   1272"
      ],
      "text/html": "<div>\n<style scoped>\n    .dataframe tbody tr th:only-of-type {\n        vertical-align: middle;\n    }\n\n    .dataframe tbody tr th {\n        vertical-align: top;\n    }\n\n    .dataframe thead th {\n        text-align: right;\n    }\n</style>\n<table border=\"1\" class=\"dataframe\">\n  <thead>\n    <tr style=\"text-align: right;\">\n      <th></th>\n      <th>min_date</th>\n      <th>max_date</th>\n      <th>count</th>\n    </tr>\n  </thead>\n  <tbody>\n    <tr>\n      <th>0</th>\n      <td>2020-08-25</td>\n      <td>2020-10-24 23:00:00</td>\n      <td>1272</td>\n    </tr>\n  </tbody>\n</table>\n</div>"
     },
     "metadata": {},
     "execution_count": 6
    }
   ],
   "source": [
    "metadata = rs.mysql_query('SELECT MIN(Date) as min_date, MAX(Date) as max_date, COUNT(*) as count FROM reliant_energy_db.daily_use', db_creds)\n",
    "metadata"
   ]
  },
  {
   "cell_type": "markdown",
   "metadata": {},
   "source": [
    "## master data"
   ]
  },
  {
   "cell_type": "code",
   "execution_count": 4,
   "metadata": {},
   "outputs": [
    {
     "data": {
      "text/html": [
       "<div>\n",
       "<style scoped>\n",
       "    .dataframe tbody tr th:only-of-type {\n",
       "        vertical-align: middle;\n",
       "    }\n",
       "\n",
       "    .dataframe tbody tr th {\n",
       "        vertical-align: top;\n",
       "    }\n",
       "\n",
       "    .dataframe thead th {\n",
       "        text-align: right;\n",
       "    }\n",
       "</style>\n",
       "<table border=\"1\" class=\"dataframe\">\n",
       "  <thead>\n",
       "    <tr style=\"text-align: right;\">\n",
       "      <th></th>\n",
       "      <th>Date</th>\n",
       "      <th>Usage (kWh)</th>\n",
       "      <th>Cost ($)</th>\n",
       "      <th>Hi</th>\n",
       "      <th>Low</th>\n",
       "    </tr>\n",
       "  </thead>\n",
       "  <tbody>\n",
       "    <tr>\n",
       "      <th>0</th>\n",
       "      <td>2020-08-25 00:00:00</td>\n",
       "      <td>1.1</td>\n",
       "      <td>0.13</td>\n",
       "      <td>94</td>\n",
       "      <td>79</td>\n",
       "    </tr>\n",
       "    <tr>\n",
       "      <th>1</th>\n",
       "      <td>2020-08-25 01:00:00</td>\n",
       "      <td>1.2</td>\n",
       "      <td>0.14</td>\n",
       "      <td>94</td>\n",
       "      <td>79</td>\n",
       "    </tr>\n",
       "    <tr>\n",
       "      <th>2</th>\n",
       "      <td>2020-08-25 02:00:00</td>\n",
       "      <td>1.0</td>\n",
       "      <td>0.12</td>\n",
       "      <td>94</td>\n",
       "      <td>79</td>\n",
       "    </tr>\n",
       "    <tr>\n",
       "      <th>3</th>\n",
       "      <td>2020-08-25 03:00:00</td>\n",
       "      <td>1.0</td>\n",
       "      <td>0.12</td>\n",
       "      <td>94</td>\n",
       "      <td>79</td>\n",
       "    </tr>\n",
       "    <tr>\n",
       "      <th>4</th>\n",
       "      <td>2020-08-25 04:00:00</td>\n",
       "      <td>1.5</td>\n",
       "      <td>0.18</td>\n",
       "      <td>94</td>\n",
       "      <td>79</td>\n",
       "    </tr>\n",
       "  </tbody>\n",
       "</table>\n",
       "</div>"
      ],
      "text/plain": [
       "                 Date  Usage (kWh)  Cost ($)  Hi  Low\n",
       "0 2020-08-25 00:00:00          1.1      0.13  94   79\n",
       "1 2020-08-25 01:00:00          1.2      0.14  94   79\n",
       "2 2020-08-25 02:00:00          1.0      0.12  94   79\n",
       "3 2020-08-25 03:00:00          1.0      0.12  94   79\n",
       "4 2020-08-25 04:00:00          1.5      0.18  94   79"
      ]
     },
     "execution_count": 4,
     "metadata": {},
     "output_type": "execute_result"
    }
   ],
   "source": [
    "master.head()"
   ]
  },
  {
   "cell_type": "code",
   "execution_count": 5,
   "metadata": {},
   "outputs": [
    {
     "data": {
      "text/html": [
       "<div>\n",
       "<style scoped>\n",
       "    .dataframe tbody tr th:only-of-type {\n",
       "        vertical-align: middle;\n",
       "    }\n",
       "\n",
       "    .dataframe tbody tr th {\n",
       "        vertical-align: top;\n",
       "    }\n",
       "\n",
       "    .dataframe thead th {\n",
       "        text-align: right;\n",
       "    }\n",
       "</style>\n",
       "<table border=\"1\" class=\"dataframe\">\n",
       "  <thead>\n",
       "    <tr style=\"text-align: right;\">\n",
       "      <th></th>\n",
       "      <th>Date</th>\n",
       "      <th>Usage (kWh)</th>\n",
       "      <th>Cost ($)</th>\n",
       "      <th>Hi</th>\n",
       "      <th>Low</th>\n",
       "    </tr>\n",
       "  </thead>\n",
       "  <tbody>\n",
       "    <tr>\n",
       "      <th>1123</th>\n",
       "      <td>2020-10-17 19:00:00</td>\n",
       "      <td>1.6</td>\n",
       "      <td>0.19</td>\n",
       "      <td>80</td>\n",
       "      <td>65</td>\n",
       "    </tr>\n",
       "    <tr>\n",
       "      <th>1124</th>\n",
       "      <td>2020-10-17 20:00:00</td>\n",
       "      <td>1.5</td>\n",
       "      <td>0.19</td>\n",
       "      <td>80</td>\n",
       "      <td>65</td>\n",
       "    </tr>\n",
       "    <tr>\n",
       "      <th>1125</th>\n",
       "      <td>2020-10-17 21:00:00</td>\n",
       "      <td>1.5</td>\n",
       "      <td>0.18</td>\n",
       "      <td>80</td>\n",
       "      <td>65</td>\n",
       "    </tr>\n",
       "    <tr>\n",
       "      <th>1126</th>\n",
       "      <td>2020-10-17 22:00:00</td>\n",
       "      <td>1.9</td>\n",
       "      <td>0.24</td>\n",
       "      <td>80</td>\n",
       "      <td>65</td>\n",
       "    </tr>\n",
       "    <tr>\n",
       "      <th>1127</th>\n",
       "      <td>2020-10-17 23:00:00</td>\n",
       "      <td>4.2</td>\n",
       "      <td>0.51</td>\n",
       "      <td>80</td>\n",
       "      <td>65</td>\n",
       "    </tr>\n",
       "  </tbody>\n",
       "</table>\n",
       "</div>"
      ],
      "text/plain": [
       "                    Date  Usage (kWh)  Cost ($)  Hi  Low\n",
       "1123 2020-10-17 19:00:00          1.6      0.19  80   65\n",
       "1124 2020-10-17 20:00:00          1.5      0.19  80   65\n",
       "1125 2020-10-17 21:00:00          1.5      0.18  80   65\n",
       "1126 2020-10-17 22:00:00          1.9      0.24  80   65\n",
       "1127 2020-10-17 23:00:00          4.2      0.51  80   65"
      ]
     },
     "execution_count": 5,
     "metadata": {},
     "output_type": "execute_result"
    }
   ],
   "source": [
    "master.tail()"
   ]
  },
  {
   "cell_type": "markdown",
   "metadata": {},
   "source": [
    "## plots"
   ]
  },
  {
   "cell_type": "code",
   "execution_count": 6,
   "metadata": {},
   "outputs": [
    {
     "data": {
      "image/png": "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\n",
      "text/plain": [
       "<Figure size 432x288 with 1 Axes>"
      ]
     },
     "metadata": {
      "needs_background": "light"
     },
     "output_type": "display_data"
    }
   ],
   "source": [
    "plt.title('Electricity Usage (kWh)')\n",
    "plt.xlabel('Date')\n",
    "plt.ylabel('kWh')\n",
    "plt.plot(master['Usage (kWh)'])\n",
    "plt.show()"
   ]
  },
  {
   "cell_type": "code",
   "execution_count": 7,
   "metadata": {},
   "outputs": [
    {
     "data": {
      "image/png": "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\n",
      "text/plain": [
       "<Figure size 432x288 with 1 Axes>"
      ]
     },
     "metadata": {
      "needs_background": "light"
     },
     "output_type": "display_data"
    }
   ],
   "source": [
    "plt.title('Temperature (Hi/Low)')\n",
    "plt.xlabel('Date')\n",
    "plt.ylabel('Temperature (F)')\n",
    "plt.plot(master['Hi'], color = 'red')\n",
    "plt.plot(master['Low'], color = 'purple')\n",
    "plt.show()"
   ]
  },
  {
   "cell_type": "code",
   "execution_count": null,
   "metadata": {},
   "outputs": [],
   "source": []
  }
 ],
 "metadata": {
  "kernelspec": {
<<<<<<< HEAD
   "name": "Python 3.7.9 64-bit ('reliant-37': conda)",
   "display_name": "Python 3.7.9 64-bit ('reliant-37': conda)",
   "metadata": {
    "interpreter": {
     "hash": "f44fa808adc66a84738ee12cd7af25f4b10408a50557e77f41ad3b5e60cdb3f7"
    }
   }
=======
<<<<<<< HEAD
   "display_name": "reliant-37",
   "language": "python",
   "name": "reliant-37"
=======
<<<<<<< HEAD
   "display_name": "Python 3",
   "language": "python",
   "name": "python3"
=======
   "display_name": "reliant",
   "language": "python",
   "name": "reliant"
>>>>>>> 88280912a59216f8ad0a6c0928e6b498a926005e
>>>>>>> 1d8107d78a69963a4401ad34288dcf6a8e3883fe
>>>>>>> 9b65bb973ebd0d022fc1b067c9452f26563d6629
  },
  "language_info": {
   "codemirror_mode": {
    "name": "ipython",
    "version": 3
   },
   "file_extension": ".py",
   "mimetype": "text/x-python",
   "name": "python",
   "nbconvert_exporter": "python",
   "pygments_lexer": "ipython3",
   "version": "3.7.9-final"
  }
 },
 "nbformat": 4,
 "nbformat_minor": 4
}