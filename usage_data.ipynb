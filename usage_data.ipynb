{
 "cells": [
  {
   "cell_type": "markdown",
   "metadata": {},
   "source": [
    "## usage data"
   ]
  },
  {
   "cell_type": "code",
   "execution_count": 16,
   "metadata": {},
   "outputs": [
    {
     "name": "stdout",
     "output_type": "stream",
     "text": [
      "imported modules\n"
     ]
    }
   ],
   "source": [
    "from sqlalchemy import create_engine, types\n",
    "from datetime import datetime, timedelta\n",
    "import matplotlib.pyplot as plt\n",
    "import mysql.connector\n",
    "import pandas as pd\n",
    "import numpy as np\n",
    "import pprint\n",
    "import boto3\n",
    "import boto\n",
    "import json\n",
    "import sys\n",
    "import os\n",
    "\n",
    "base = os.path.join('C:\\\\', 'Users', 'steve', 'Documents', 'reliant-scrape')\n",
    "data = os.path.join(base, 'data')\n",
    "pp = pprint.PrettyPrinter(indent = 1)\n",
    "print('imported modules')"
   ]
  },
  {
   "cell_type": "markdown",
   "metadata": {},
   "source": [
    "## read data"
   ]
  },
  {
   "cell_type": "code",
   "execution_count": 2,
   "metadata": {},
   "outputs": [
    {
     "name": "stdout",
     "output_type": "stream",
     "text": [
      "['daily_usage_08312020.csv', 'daily_usage_09052020.csv', 'daily_usage_09132020.csv', 'daily_usage_09162020.csv', 'master_energy_usage_091520.csv']\n"
     ]
    }
   ],
   "source": [
    "print(os.listdir(data))"
   ]
  },
  {
   "cell_type": "code",
   "execution_count": 3,
   "metadata": {},
   "outputs": [
    {
     "data": {
      "text/html": [
       "<div>\n",
       "<style scoped>\n",
       "    .dataframe tbody tr th:only-of-type {\n",
       "        vertical-align: middle;\n",
       "    }\n",
       "\n",
       "    .dataframe tbody tr th {\n",
       "        vertical-align: top;\n",
       "    }\n",
       "\n",
       "    .dataframe thead th {\n",
       "        text-align: right;\n",
       "    }\n",
       "</style>\n",
       "<table border=\"1\" class=\"dataframe\">\n",
       "  <thead>\n",
       "    <tr style=\"text-align: right;\">\n",
       "      <th></th>\n",
       "      <th>Usage (kWh)</th>\n",
       "      <th>Cost ($)</th>\n",
       "      <th>Hi</th>\n",
       "      <th>Low</th>\n",
       "    </tr>\n",
       "    <tr>\n",
       "      <th>Date</th>\n",
       "      <th></th>\n",
       "      <th></th>\n",
       "      <th></th>\n",
       "      <th></th>\n",
       "    </tr>\n",
       "  </thead>\n",
       "  <tbody>\n",
       "    <tr>\n",
       "      <th>2020-08-25 00:00:00</th>\n",
       "      <td>1.1</td>\n",
       "      <td>0.13</td>\n",
       "      <td>94</td>\n",
       "      <td>79</td>\n",
       "    </tr>\n",
       "    <tr>\n",
       "      <th>2020-08-25 01:00:00</th>\n",
       "      <td>1.2</td>\n",
       "      <td>0.14</td>\n",
       "      <td>94</td>\n",
       "      <td>79</td>\n",
       "    </tr>\n",
       "    <tr>\n",
       "      <th>2020-08-25 02:00:00</th>\n",
       "      <td>1.0</td>\n",
       "      <td>0.12</td>\n",
       "      <td>94</td>\n",
       "      <td>79</td>\n",
       "    </tr>\n",
       "    <tr>\n",
       "      <th>2020-08-25 03:00:00</th>\n",
       "      <td>1.0</td>\n",
       "      <td>0.12</td>\n",
       "      <td>94</td>\n",
       "      <td>79</td>\n",
       "    </tr>\n",
       "    <tr>\n",
       "      <th>2020-08-25 04:00:00</th>\n",
       "      <td>1.5</td>\n",
       "      <td>0.18</td>\n",
       "      <td>94</td>\n",
       "      <td>79</td>\n",
       "    </tr>\n",
       "  </tbody>\n",
       "</table>\n",
       "</div>"
      ],
      "text/plain": [
       "                     Usage (kWh)  Cost ($)  Hi  Low\n",
       "Date                                               \n",
       "2020-08-25 00:00:00          1.1      0.13  94   79\n",
       "2020-08-25 01:00:00          1.2      0.14  94   79\n",
       "2020-08-25 02:00:00          1.0      0.12  94   79\n",
       "2020-08-25 03:00:00          1.0      0.12  94   79\n",
       "2020-08-25 04:00:00          1.5      0.18  94   79"
      ]
     },
     "execution_count": 3,
     "metadata": {},
     "output_type": "execute_result"
    }
   ],
   "source": [
    "os.chdir(data)\n",
    "use1 = pd.read_csv('daily_usage_08312020.csv', index_col = 0)\n",
    "use1.head()"
   ]
  },
  {
   "cell_type": "code",
   "execution_count": 4,
   "metadata": {},
   "outputs": [
    {
     "data": {
      "text/html": [
       "<div>\n",
       "<style scoped>\n",
       "    .dataframe tbody tr th:only-of-type {\n",
       "        vertical-align: middle;\n",
       "    }\n",
       "\n",
       "    .dataframe tbody tr th {\n",
       "        vertical-align: top;\n",
       "    }\n",
       "\n",
       "    .dataframe thead th {\n",
       "        text-align: right;\n",
       "    }\n",
       "</style>\n",
       "<table border=\"1\" class=\"dataframe\">\n",
       "  <thead>\n",
       "    <tr style=\"text-align: right;\">\n",
       "      <th></th>\n",
       "      <th>Usage (kWh)</th>\n",
       "      <th>Cost ($)</th>\n",
       "      <th>Hi</th>\n",
       "      <th>Low</th>\n",
       "    </tr>\n",
       "    <tr>\n",
       "      <th>Date</th>\n",
       "      <th></th>\n",
       "      <th></th>\n",
       "      <th></th>\n",
       "      <th></th>\n",
       "    </tr>\n",
       "  </thead>\n",
       "  <tbody>\n",
       "    <tr>\n",
       "      <th>2020-08-31 00:00:00</th>\n",
       "      <td>1.0</td>\n",
       "      <td>0.12</td>\n",
       "      <td>96</td>\n",
       "      <td>83</td>\n",
       "    </tr>\n",
       "    <tr>\n",
       "      <th>2020-08-31 01:00:00</th>\n",
       "      <td>0.9</td>\n",
       "      <td>0.11</td>\n",
       "      <td>96</td>\n",
       "      <td>83</td>\n",
       "    </tr>\n",
       "    <tr>\n",
       "      <th>2020-08-31 02:00:00</th>\n",
       "      <td>0.9</td>\n",
       "      <td>0.11</td>\n",
       "      <td>96</td>\n",
       "      <td>83</td>\n",
       "    </tr>\n",
       "    <tr>\n",
       "      <th>2020-08-31 03:00:00</th>\n",
       "      <td>0.9</td>\n",
       "      <td>0.10</td>\n",
       "      <td>96</td>\n",
       "      <td>83</td>\n",
       "    </tr>\n",
       "    <tr>\n",
       "      <th>2020-08-31 04:00:00</th>\n",
       "      <td>0.9</td>\n",
       "      <td>0.10</td>\n",
       "      <td>96</td>\n",
       "      <td>83</td>\n",
       "    </tr>\n",
       "  </tbody>\n",
       "</table>\n",
       "</div>"
      ],
      "text/plain": [
       "                     Usage (kWh)  Cost ($)  Hi  Low\n",
       "Date                                               \n",
       "2020-08-31 00:00:00          1.0      0.12  96   83\n",
       "2020-08-31 01:00:00          0.9      0.11  96   83\n",
       "2020-08-31 02:00:00          0.9      0.11  96   83\n",
       "2020-08-31 03:00:00          0.9      0.10  96   83\n",
       "2020-08-31 04:00:00          0.9      0.10  96   83"
      ]
     },
     "execution_count": 4,
     "metadata": {},
     "output_type": "execute_result"
    }
   ],
   "source": [
    "use2 = pd.read_csv('daily_usage_09052020.csv', index_col = 0)\n",
    "use2.head()"
   ]
  },
  {
   "cell_type": "code",
   "execution_count": 5,
   "metadata": {},
   "outputs": [
    {
     "data": {
      "text/html": [
       "<div>\n",
       "<style scoped>\n",
       "    .dataframe tbody tr th:only-of-type {\n",
       "        vertical-align: middle;\n",
       "    }\n",
       "\n",
       "    .dataframe tbody tr th {\n",
       "        vertical-align: top;\n",
       "    }\n",
       "\n",
       "    .dataframe thead th {\n",
       "        text-align: right;\n",
       "    }\n",
       "</style>\n",
       "<table border=\"1\" class=\"dataframe\">\n",
       "  <thead>\n",
       "    <tr style=\"text-align: right;\">\n",
       "      <th></th>\n",
       "      <th>Usage (kWh)</th>\n",
       "      <th>Cost ($)</th>\n",
       "      <th>Hi</th>\n",
       "      <th>Low</th>\n",
       "    </tr>\n",
       "    <tr>\n",
       "      <th>Date</th>\n",
       "      <th></th>\n",
       "      <th></th>\n",
       "      <th></th>\n",
       "      <th></th>\n",
       "    </tr>\n",
       "  </thead>\n",
       "  <tbody>\n",
       "    <tr>\n",
       "      <th>2020-09-07 00:00:00</th>\n",
       "      <td>3.9</td>\n",
       "      <td>0.46</td>\n",
       "      <td>93</td>\n",
       "      <td>78</td>\n",
       "    </tr>\n",
       "    <tr>\n",
       "      <th>2020-09-07 01:00:00</th>\n",
       "      <td>3.5</td>\n",
       "      <td>0.41</td>\n",
       "      <td>93</td>\n",
       "      <td>78</td>\n",
       "    </tr>\n",
       "    <tr>\n",
       "      <th>2020-09-07 02:00:00</th>\n",
       "      <td>3.1</td>\n",
       "      <td>0.37</td>\n",
       "      <td>93</td>\n",
       "      <td>78</td>\n",
       "    </tr>\n",
       "    <tr>\n",
       "      <th>2020-09-07 03:00:00</th>\n",
       "      <td>1.7</td>\n",
       "      <td>0.20</td>\n",
       "      <td>93</td>\n",
       "      <td>78</td>\n",
       "    </tr>\n",
       "    <tr>\n",
       "      <th>2020-09-07 04:00:00</th>\n",
       "      <td>2.0</td>\n",
       "      <td>0.24</td>\n",
       "      <td>93</td>\n",
       "      <td>78</td>\n",
       "    </tr>\n",
       "  </tbody>\n",
       "</table>\n",
       "</div>"
      ],
      "text/plain": [
       "                     Usage (kWh)  Cost ($)  Hi  Low\n",
       "Date                                               \n",
       "2020-09-07 00:00:00          3.9      0.46  93   78\n",
       "2020-09-07 01:00:00          3.5      0.41  93   78\n",
       "2020-09-07 02:00:00          3.1      0.37  93   78\n",
       "2020-09-07 03:00:00          1.7      0.20  93   78\n",
       "2020-09-07 04:00:00          2.0      0.24  93   78"
      ]
     },
     "execution_count": 5,
     "metadata": {},
     "output_type": "execute_result"
    }
   ],
   "source": [
    "use3 = pd.read_csv('daily_usage_09132020.csv', index_col = 0)\n",
    "use3.head()"
   ]
  },
  {
   "cell_type": "markdown",
   "metadata": {},
   "source": [
    "## create master df"
   ]
  },
  {
   "cell_type": "code",
   "execution_count": 6,
   "metadata": {},
   "outputs": [
    {
     "data": {
      "text/html": [
       "<div>\n",
       "<style scoped>\n",
       "    .dataframe tbody tr th:only-of-type {\n",
       "        vertical-align: middle;\n",
       "    }\n",
       "\n",
       "    .dataframe tbody tr th {\n",
       "        vertical-align: top;\n",
       "    }\n",
       "\n",
       "    .dataframe thead th {\n",
       "        text-align: right;\n",
       "    }\n",
       "</style>\n",
       "<table border=\"1\" class=\"dataframe\">\n",
       "  <thead>\n",
       "    <tr style=\"text-align: right;\">\n",
       "      <th></th>\n",
       "      <th>Usage (kWh)</th>\n",
       "      <th>Cost ($)</th>\n",
       "      <th>Hi</th>\n",
       "      <th>Low</th>\n",
       "    </tr>\n",
       "    <tr>\n",
       "      <th>Date</th>\n",
       "      <th></th>\n",
       "      <th></th>\n",
       "      <th></th>\n",
       "      <th></th>\n",
       "    </tr>\n",
       "  </thead>\n",
       "  <tbody>\n",
       "    <tr>\n",
       "      <th>2020-08-25 00:00:00</th>\n",
       "      <td>1.1</td>\n",
       "      <td>0.13</td>\n",
       "      <td>94</td>\n",
       "      <td>79</td>\n",
       "    </tr>\n",
       "    <tr>\n",
       "      <th>2020-08-25 01:00:00</th>\n",
       "      <td>1.2</td>\n",
       "      <td>0.14</td>\n",
       "      <td>94</td>\n",
       "      <td>79</td>\n",
       "    </tr>\n",
       "    <tr>\n",
       "      <th>2020-08-25 02:00:00</th>\n",
       "      <td>1.0</td>\n",
       "      <td>0.12</td>\n",
       "      <td>94</td>\n",
       "      <td>79</td>\n",
       "    </tr>\n",
       "    <tr>\n",
       "      <th>2020-08-25 03:00:00</th>\n",
       "      <td>1.0</td>\n",
       "      <td>0.12</td>\n",
       "      <td>94</td>\n",
       "      <td>79</td>\n",
       "    </tr>\n",
       "    <tr>\n",
       "      <th>2020-08-25 04:00:00</th>\n",
       "      <td>1.5</td>\n",
       "      <td>0.18</td>\n",
       "      <td>94</td>\n",
       "      <td>79</td>\n",
       "    </tr>\n",
       "  </tbody>\n",
       "</table>\n",
       "</div>"
      ],
      "text/plain": [
       "                     Usage (kWh)  Cost ($)  Hi  Low\n",
       "Date                                               \n",
       "2020-08-25 00:00:00          1.1      0.13  94   79\n",
       "2020-08-25 01:00:00          1.2      0.14  94   79\n",
       "2020-08-25 02:00:00          1.0      0.12  94   79\n",
       "2020-08-25 03:00:00          1.0      0.12  94   79\n",
       "2020-08-25 04:00:00          1.5      0.18  94   79"
      ]
     },
     "execution_count": 6,
     "metadata": {},
     "output_type": "execute_result"
    }
   ],
   "source": [
    "master = pd.concat([use1, use2, use3], axis = 0)\n",
    "master.head()"
   ]
  },
  {
   "cell_type": "code",
   "execution_count": 7,
   "metadata": {},
   "outputs": [
    {
     "data": {
      "text/html": [
       "<div>\n",
       "<style scoped>\n",
       "    .dataframe tbody tr th:only-of-type {\n",
       "        vertical-align: middle;\n",
       "    }\n",
       "\n",
       "    .dataframe tbody tr th {\n",
       "        vertical-align: top;\n",
       "    }\n",
       "\n",
       "    .dataframe thead th {\n",
       "        text-align: right;\n",
       "    }\n",
       "</style>\n",
       "<table border=\"1\" class=\"dataframe\">\n",
       "  <thead>\n",
       "    <tr style=\"text-align: right;\">\n",
       "      <th></th>\n",
       "      <th>Usage (kWh)</th>\n",
       "      <th>Cost ($)</th>\n",
       "      <th>Hi</th>\n",
       "      <th>Low</th>\n",
       "    </tr>\n",
       "    <tr>\n",
       "      <th>Date</th>\n",
       "      <th></th>\n",
       "      <th></th>\n",
       "      <th></th>\n",
       "      <th></th>\n",
       "    </tr>\n",
       "  </thead>\n",
       "  <tbody>\n",
       "    <tr>\n",
       "      <th>2020-09-13 19:00:00</th>\n",
       "      <td>2.2</td>\n",
       "      <td>0.26</td>\n",
       "      <td>92</td>\n",
       "      <td>78</td>\n",
       "    </tr>\n",
       "    <tr>\n",
       "      <th>2020-09-13 20:00:00</th>\n",
       "      <td>2.0</td>\n",
       "      <td>0.24</td>\n",
       "      <td>92</td>\n",
       "      <td>78</td>\n",
       "    </tr>\n",
       "    <tr>\n",
       "      <th>2020-09-13 21:00:00</th>\n",
       "      <td>1.8</td>\n",
       "      <td>0.22</td>\n",
       "      <td>92</td>\n",
       "      <td>78</td>\n",
       "    </tr>\n",
       "    <tr>\n",
       "      <th>2020-09-13 22:00:00</th>\n",
       "      <td>2.4</td>\n",
       "      <td>0.29</td>\n",
       "      <td>92</td>\n",
       "      <td>78</td>\n",
       "    </tr>\n",
       "    <tr>\n",
       "      <th>2020-09-13 23:00:00</th>\n",
       "      <td>1.9</td>\n",
       "      <td>0.22</td>\n",
       "      <td>92</td>\n",
       "      <td>78</td>\n",
       "    </tr>\n",
       "  </tbody>\n",
       "</table>\n",
       "</div>"
      ],
      "text/plain": [
       "                     Usage (kWh)  Cost ($)  Hi  Low\n",
       "Date                                               \n",
       "2020-09-13 19:00:00          2.2      0.26  92   78\n",
       "2020-09-13 20:00:00          2.0      0.24  92   78\n",
       "2020-09-13 21:00:00          1.8      0.22  92   78\n",
       "2020-09-13 22:00:00          2.4      0.29  92   78\n",
       "2020-09-13 23:00:00          1.9      0.22  92   78"
      ]
     },
     "execution_count": 7,
     "metadata": {},
     "output_type": "execute_result"
    }
   ],
   "source": [
    "master.tail()"
   ]
  },
  {
   "cell_type": "code",
   "execution_count": 15,
   "metadata": {},
   "outputs": [],
   "source": [
    "#master.to_csv('master_energy_usage_091520.csv')"
   ]
  },
  {
   "cell_type": "markdown",
   "metadata": {},
   "source": [
    "## plots"
   ]
  },
  {
   "cell_type": "code",
   "execution_count": 8,
   "metadata": {},
   "outputs": [
    {
     "data": {
      "image/png": "[encoded data removed]",
      "text/plain": [
       "<Figure size 432x288 with 1 Axes>"
      ]
     },
     "metadata": {
      "needs_background": "light"
     },
     "output_type": "display_data"
    }
   ],
   "source": [
    "plt.title('Electricity Usage (kWh)')\n",
    "plt.xlabel('Date')\n",
    "plt.ylabel('kWh')\n",
    "plt.plot(master['Usage (kWh)'])\n",
    "plt.show()"
   ]
  },
  {
   "cell_type": "code",
   "execution_count": 9,
   "metadata": {},
   "outputs": [
    {
     "data": {
      "image/png": "[encoded data removed]",
      "text/plain": [
       "<Figure size 432x288 with 1 Axes>"
      ]
     },
     "metadata": {
      "needs_background": "light"
     },
     "output_type": "display_data"
    }
   ],
   "source": [
    "plt.title('Temperature (Hi/Low)')\n",
    "plt.xlabel('Date')\n",
    "plt.ylabel('Temperature (F)')\n",
    "plt.plot(master['Hi'], color = 'red')\n",
    "plt.plot(master['Low'], color = 'purple')\n",
    "plt.show()"
   ]
  },
  {
   "cell_type": "code",
   "execution_count": 10,
   "metadata": {},
   "outputs": [
    {
     "data": {
      "text/plain": [
       "81.65"
      ]
     },
     "execution_count": 10,
     "metadata": {},
     "output_type": "execute_result"
    }
   ],
   "source": [
    "round(np.sum(master['Cost ($)']), 2)"
   ]
  },
  {
   "cell_type": "markdown",
   "metadata": {},
   "source": [
    "## database authentication\n",
    "From AWS docs: https://docs.aws.amazon.com/AmazonRDS/latest/UserGuide/UsingWithRDS.IAMDBAuth.Connecting.Python.html"
   ]
  },
  {
   "cell_type": "code",
   "execution_count": 8,
   "metadata": {},
   "outputs": [],
   "source": [
    "os.chdir(base)\n",
    "\n",
    "with open('db_creds.json', 'r') as f:\n",
    "    db_creds = json.load(f)"
   ]
  },
  {
   "cell_type": "code",
   "execution_count": 9,
   "metadata": {},
   "outputs": [],
   "source": [
    "os.environ['LIBMYSQL_ENABLE_CLEARTEXT_PLUGIN'] = '1'\n",
    "\n",
    "#gets the credentials from .aws/credentials\n",
    "session = boto3.Session(region_name = 'us-east-2')\n",
    "client = boto3.client('rds', region_name = 'us-east-2')"
   ]
  },
  {
   "cell_type": "code",
   "execution_count": 10,
   "metadata": {},
   "outputs": [
    {
     "data": {
      "text/plain": [
       "{'Key': 'service', 'Value': 'reliant-energy'}"
      ]
     },
     "execution_count": 10,
     "metadata": {},
     "output_type": "execute_result"
    }
   ],
   "source": [
    "client.list_tags_for_resource(ResourceName = db_creds['DBInstanceArn'])['TagList'][0]"
   ]
  },
  {
   "cell_type": "markdown",
   "metadata": {},
   "source": [
    "## database connection"
   ]
  },
  {
   "cell_type": "code",
   "execution_count": 52,
   "metadata": {},
   "outputs": [],
   "source": [
    "def mysql_query(query, creds):\n",
    "    try:\n",
    "        conn =  mysql.connector.connect(host = creds['Endpoint'], \n",
    "                                        user = creds['User'], \n",
    "                                        passwd=creds['Password'], \n",
    "                                        port = creds['Port'], \n",
    "                                        database = creds['Type'])\n",
    "        cur = conn.cursor()\n",
    "        cur.execute(query)\n",
    "        query_results = cur.fetchall()\n",
    "        results_df = pd.DataFrame(query_results, columns = cur.column_names)\n",
    "        return(results_df)\n",
    "\n",
    "    except Exception as e:\n",
    "        print(\"Database connection failed due to {}\".format(e)) "
   ]
  },
  {
   "cell_type": "code",
   "execution_count": 53,
   "metadata": {},
   "outputs": [
    {
     "data": {
      "text/html": [
       "<div>\n",
       "<style scoped>\n",
       "    .dataframe tbody tr th:only-of-type {\n",
       "        vertical-align: middle;\n",
       "    }\n",
       "\n",
       "    .dataframe tbody tr th {\n",
       "        vertical-align: top;\n",
       "    }\n",
       "\n",
       "    .dataframe thead th {\n",
       "        text-align: right;\n",
       "    }\n",
       "</style>\n",
       "<table border=\"1\" class=\"dataframe\">\n",
       "  <thead>\n",
       "    <tr style=\"text-align: right;\">\n",
       "      <th></th>\n",
       "      <th>Date</th>\n",
       "      <th>Usage (kWh)</th>\n",
       "      <th>Cost ($)</th>\n",
       "      <th>Hi</th>\n",
       "      <th>Low</th>\n",
       "    </tr>\n",
       "  </thead>\n",
       "  <tbody>\n",
       "    <tr>\n",
       "      <th>0</th>\n",
       "      <td>2020-08-25 00:00:00</td>\n",
       "      <td>1.1</td>\n",
       "      <td>0.13</td>\n",
       "      <td>94</td>\n",
       "      <td>79</td>\n",
       "    </tr>\n",
       "    <tr>\n",
       "      <th>1</th>\n",
       "      <td>2020-08-25 01:00:00</td>\n",
       "      <td>1.2</td>\n",
       "      <td>0.14</td>\n",
       "      <td>94</td>\n",
       "      <td>79</td>\n",
       "    </tr>\n",
       "    <tr>\n",
       "      <th>2</th>\n",
       "      <td>2020-08-25 02:00:00</td>\n",
       "      <td>1.0</td>\n",
       "      <td>0.12</td>\n",
       "      <td>94</td>\n",
       "      <td>79</td>\n",
       "    </tr>\n",
       "    <tr>\n",
       "      <th>3</th>\n",
       "      <td>2020-08-25 03:00:00</td>\n",
       "      <td>1.0</td>\n",
       "      <td>0.12</td>\n",
       "      <td>94</td>\n",
       "      <td>79</td>\n",
       "    </tr>\n",
       "    <tr>\n",
       "      <th>4</th>\n",
       "      <td>2020-08-25 04:00:00</td>\n",
       "      <td>1.5</td>\n",
       "      <td>0.18</td>\n",
       "      <td>94</td>\n",
       "      <td>79</td>\n",
       "    </tr>\n",
       "    <tr>\n",
       "      <th>...</th>\n",
       "      <td>...</td>\n",
       "      <td>...</td>\n",
       "      <td>...</td>\n",
       "      <td>...</td>\n",
       "      <td>...</td>\n",
       "    </tr>\n",
       "    <tr>\n",
       "      <th>403</th>\n",
       "      <td>2020-09-13 19:00:00</td>\n",
       "      <td>2.2</td>\n",
       "      <td>0.26</td>\n",
       "      <td>92</td>\n",
       "      <td>78</td>\n",
       "    </tr>\n",
       "    <tr>\n",
       "      <th>404</th>\n",
       "      <td>2020-09-13 20:00:00</td>\n",
       "      <td>2.0</td>\n",
       "      <td>0.24</td>\n",
       "      <td>92</td>\n",
       "      <td>78</td>\n",
       "    </tr>\n",
       "    <tr>\n",
       "      <th>405</th>\n",
       "      <td>2020-09-13 21:00:00</td>\n",
       "      <td>1.8</td>\n",
       "      <td>0.22</td>\n",
       "      <td>92</td>\n",
       "      <td>78</td>\n",
       "    </tr>\n",
       "    <tr>\n",
       "      <th>406</th>\n",
       "      <td>2020-09-13 22:00:00</td>\n",
       "      <td>2.4</td>\n",
       "      <td>0.29</td>\n",
       "      <td>92</td>\n",
       "      <td>78</td>\n",
       "    </tr>\n",
       "    <tr>\n",
       "      <th>407</th>\n",
       "      <td>2020-09-13 23:00:00</td>\n",
       "      <td>1.9</td>\n",
       "      <td>0.22</td>\n",
       "      <td>92</td>\n",
       "      <td>78</td>\n",
       "    </tr>\n",
       "  </tbody>\n",
       "</table>\n",
       "<p>408 rows × 5 columns</p>\n",
       "</div>"
      ],
      "text/plain": [
       "                    Date  Usage (kWh)  Cost ($)  Hi  Low\n",
       "0    2020-08-25 00:00:00          1.1      0.13  94   79\n",
       "1    2020-08-25 01:00:00          1.2      0.14  94   79\n",
       "2    2020-08-25 02:00:00          1.0      0.12  94   79\n",
       "3    2020-08-25 03:00:00          1.0      0.12  94   79\n",
       "4    2020-08-25 04:00:00          1.5      0.18  94   79\n",
       "..                   ...          ...       ...  ..  ...\n",
       "403  2020-09-13 19:00:00          2.2      0.26  92   78\n",
       "404  2020-09-13 20:00:00          2.0      0.24  92   78\n",
       "405  2020-09-13 21:00:00          1.8      0.22  92   78\n",
       "406  2020-09-13 22:00:00          2.4      0.29  92   78\n",
       "407  2020-09-13 23:00:00          1.9      0.22  92   78\n",
       "\n",
       "[408 rows x 5 columns]"
      ]
     },
     "execution_count": 53,
     "metadata": {},
     "output_type": "execute_result"
    }
   ],
   "source": [
    "mysql_query('SELECT * FROM reliant_energy_db.daily_use', db_creds)"
   ]
  },
  {
   "cell_type": "code",
   "execution_count": 59,
   "metadata": {},
   "outputs": [],
   "source": [
    "result = mysql_query('SELECT MIN(Date) as min_date, MAX(Date) as max_date, COUNT(*) as count FROM reliant_energy_db.daily_use', db_creds)"
   ]
  },
  {
   "cell_type": "code",
   "execution_count": 61,
   "metadata": {},
   "outputs": [
    {
     "data": {
      "text/html": [
       "<div>\n",
       "<style scoped>\n",
       "    .dataframe tbody tr th:only-of-type {\n",
       "        vertical-align: middle;\n",
       "    }\n",
       "\n",
       "    .dataframe tbody tr th {\n",
       "        vertical-align: top;\n",
       "    }\n",
       "\n",
       "    .dataframe thead th {\n",
       "        text-align: right;\n",
       "    }\n",
       "</style>\n",
       "<table border=\"1\" class=\"dataframe\">\n",
       "  <thead>\n",
       "    <tr style=\"text-align: right;\">\n",
       "      <th></th>\n",
       "      <th>min_date</th>\n",
       "      <th>max_date</th>\n",
       "      <th>count</th>\n",
       "    </tr>\n",
       "  </thead>\n",
       "  <tbody>\n",
       "    <tr>\n",
       "      <th>0</th>\n",
       "      <td>2020-08-25 00:00:00</td>\n",
       "      <td>2020-09-13 23:00:00</td>\n",
       "      <td>816</td>\n",
       "    </tr>\n",
       "  </tbody>\n",
       "</table>\n",
       "</div>"
      ],
      "text/plain": [
       "              min_date             max_date  count\n",
       "0  2020-08-25 00:00:00  2020-09-13 23:00:00    816"
      ]
     },
     "execution_count": 61,
     "metadata": {},
     "output_type": "execute_result"
    }
   ],
   "source": [
    "result"
   ]
  },
  {
   "cell_type": "code",
   "execution_count": 62,
   "metadata": {},
   "outputs": [
    {
     "name": "stdout",
     "output_type": "stream",
     "text": [
      "found data range of 2020-08-25 00:00:00 to 2020-09-13 23:00:00 with 816 records.\n"
     ]
    }
   ],
   "source": [
    "print('found data range of {} to {} with {} records.'.format(result.min_date[0], result.max_date[0], result['count'][0]))"
   ]
  },
  {
   "cell_type": "markdown",
   "metadata": {},
   "source": [
    "## upload data\n",
    "https://stackoverflow.com/questions/10154633/load-csv-data-into-mysql-in-python"
   ]
  },
  {
   "cell_type": "code",
   "execution_count": 31,
   "metadata": {},
   "outputs": [
    {
     "data": {
      "text/html": [
       "<div>\n",
       "<style scoped>\n",
       "    .dataframe tbody tr th:only-of-type {\n",
       "        vertical-align: middle;\n",
       "    }\n",
       "\n",
       "    .dataframe tbody tr th {\n",
       "        vertical-align: top;\n",
       "    }\n",
       "\n",
       "    .dataframe thead th {\n",
       "        text-align: right;\n",
       "    }\n",
       "</style>\n",
       "<table border=\"1\" class=\"dataframe\">\n",
       "  <thead>\n",
       "    <tr style=\"text-align: right;\">\n",
       "      <th></th>\n",
       "      <th>Date</th>\n",
       "      <th>Usage (kWh)</th>\n",
       "      <th>Cost ($)</th>\n",
       "      <th>Hi</th>\n",
       "      <th>Low</th>\n",
       "    </tr>\n",
       "  </thead>\n",
       "  <tbody>\n",
       "    <tr>\n",
       "      <th>0</th>\n",
       "      <td>2020-08-25 00:00:00</td>\n",
       "      <td>1.1</td>\n",
       "      <td>0.13</td>\n",
       "      <td>94</td>\n",
       "      <td>79</td>\n",
       "    </tr>\n",
       "    <tr>\n",
       "      <th>1</th>\n",
       "      <td>2020-08-25 01:00:00</td>\n",
       "      <td>1.2</td>\n",
       "      <td>0.14</td>\n",
       "      <td>94</td>\n",
       "      <td>79</td>\n",
       "    </tr>\n",
       "    <tr>\n",
       "      <th>2</th>\n",
       "      <td>2020-08-25 02:00:00</td>\n",
       "      <td>1.0</td>\n",
       "      <td>0.12</td>\n",
       "      <td>94</td>\n",
       "      <td>79</td>\n",
       "    </tr>\n",
       "    <tr>\n",
       "      <th>3</th>\n",
       "      <td>2020-08-25 03:00:00</td>\n",
       "      <td>1.0</td>\n",
       "      <td>0.12</td>\n",
       "      <td>94</td>\n",
       "      <td>79</td>\n",
       "    </tr>\n",
       "    <tr>\n",
       "      <th>4</th>\n",
       "      <td>2020-08-25 04:00:00</td>\n",
       "      <td>1.5</td>\n",
       "      <td>0.18</td>\n",
       "      <td>94</td>\n",
       "      <td>79</td>\n",
       "    </tr>\n",
       "  </tbody>\n",
       "</table>\n",
       "</div>"
      ],
      "text/plain": [
       "                  Date  Usage (kWh)  Cost ($)  Hi  Low\n",
       "0  2020-08-25 00:00:00          1.1      0.13  94   79\n",
       "1  2020-08-25 01:00:00          1.2      0.14  94   79\n",
       "2  2020-08-25 02:00:00          1.0      0.12  94   79\n",
       "3  2020-08-25 03:00:00          1.0      0.12  94   79\n",
       "4  2020-08-25 04:00:00          1.5      0.18  94   79"
      ]
     },
     "execution_count": 31,
     "metadata": {},
     "output_type": "execute_result"
    }
   ],
   "source": [
    "os.chdir(data)\n",
    "master = pd.read_csv('master_energy_usage_091520.csv')\n",
    "#master = master['Date', 'Usage (kWh)', 'Cost ($)', 'Hi', 'Low']\n",
    "master.head()"
   ]
  },
  {
   "cell_type": "code",
   "execution_count": 57,
   "metadata": {},
   "outputs": [],
   "source": [
    "def table_upload(df, db, table, creds):\n",
    "    connect_str = 'mysql://{}:{}@{}/{}'.format(creds['User'], creds['Password'], creds['Endpoint'], db)\n",
    "    engine = create_engine(connect_str)\n",
    "    df.to_sql(table, con = engine, index = False, if_exists = 'append')\n",
    "    print('wrote df to sql table.')"
   ]
  },
  {
   "cell_type": "code",
   "execution_count": 58,
   "metadata": {},
   "outputs": [
    {
     "name": "stdout",
     "output_type": "stream",
     "text": [
      "wrote df to sql table.\n"
     ]
    }
   ],
   "source": [
    "table_upload(master, 'reliant_energy_db', 'daily_use', db_creds)"
   ]
  },
  {
   "cell_type": "code",
   "execution_count": null,
   "metadata": {},
   "outputs": [],
   "source": []
  }
 ],
 "metadata": {
  "kernelspec": {
   "display_name": "reliant-37",
   "language": "python",
   "name": "reliant-37"
  },
  "language_info": {
   "codemirror_mode": {
    "name": "ipython",
    "version": 3
   },
   "file_extension": ".py",
   "mimetype": "text/x-python",
   "name": "python",
   "nbconvert_exporter": "python",
   "pygments_lexer": "ipython3",
   "version": "3.7.9"
  }
 },
 "nbformat": 4,
 "nbformat_minor": 4
}
