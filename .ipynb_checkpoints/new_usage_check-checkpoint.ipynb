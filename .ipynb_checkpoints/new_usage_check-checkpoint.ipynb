{
 "cells": [
  {
   "cell_type": "markdown",
   "metadata": {},
   "source": [
    "# usage data check"
   ]
  },
  {
   "cell_type": "code",
   "execution_count": 7,
   "metadata": {},
   "outputs": [
    {
     "name": "stdout",
     "output_type": "stream",
     "text": [
      "loaded credentials & imported modules.\n"
     ]
    }
   ],
   "source": [
    "from sqlalchemy import create_engine, types\n",
    "from datetime import datetime, timedelta\n",
    "from IPython.display import display\n",
    "import matplotlib.pyplot as plt\n",
    "import reliant_scrape as rs\n",
    "import mysql.connector\n",
    "import pandas as pd\n",
    "import numpy as np\n",
    "import pprint\n",
    "import yaml\n",
    "import boto3\n",
    "import boto\n",
    "import json\n",
    "import sys\n",
    "import os\n",
    "\n",
    "base = os.path.join('C:\\\\', 'Users', 'steve', 'Documents', 'reliant-scrape')\n",
    "data = os.path.join(base, 'data')\n",
    "pp = pprint.PrettyPrinter(indent = 1)\n",
    "os.environ['LIBMYSQL_ENABLE_CLEARTEXT_PLUGIN'] = '1'\n",
    "\n",
    "with open('config.yaml', 'r') as f:\n",
    "    config = yaml.load(f, Loader = yaml.FullLoader)\n",
    "        \n",
    "with open('db_creds.json', 'r') as f:\n",
    "    db_creds = json.load(f)\n",
    "    \n",
    "print('loaded credentials & imported modules.')"
   ]
  },
  {
   "cell_type": "markdown",
   "metadata": {},
   "source": [
    "## query"
   ]
  },
  {
   "cell_type": "code",
   "execution_count": 8,
   "metadata": {},
   "outputs": [],
   "source": [
    "result = rs.mysql_query(\"\"\"SELECT * FROM reliant_energy_db.daily_use\"\"\", db_creds)"
   ]
  },
  {
   "cell_type": "markdown",
   "metadata": {},
   "source": [
    "## data"
   ]
  },
  {
   "cell_type": "code",
   "execution_count": 9,
   "metadata": {},
   "outputs": [
    {
     "data": {
      "text/html": [
       "<div>\n",
       "<style scoped>\n",
       "    .dataframe tbody tr th:only-of-type {\n",
       "        vertical-align: middle;\n",
       "    }\n",
       "\n",
       "    .dataframe tbody tr th {\n",
       "        vertical-align: top;\n",
       "    }\n",
       "\n",
       "    .dataframe thead th {\n",
       "        text-align: right;\n",
       "    }\n",
       "</style>\n",
       "<table border=\"1\" class=\"dataframe\">\n",
       "  <thead>\n",
       "    <tr style=\"text-align: right;\">\n",
       "      <th></th>\n",
       "      <th>Date</th>\n",
       "      <th>Usage (kWh)</th>\n",
       "      <th>Cost ($)</th>\n",
       "      <th>Hi</th>\n",
       "      <th>Low</th>\n",
       "    </tr>\n",
       "  </thead>\n",
       "  <tbody>\n",
       "    <tr>\n",
       "      <th>0</th>\n",
       "      <td>2020-08-25 00:00:00</td>\n",
       "      <td>1.1</td>\n",
       "      <td>0.13</td>\n",
       "      <td>94</td>\n",
       "      <td>79</td>\n",
       "    </tr>\n",
       "    <tr>\n",
       "      <th>1</th>\n",
       "      <td>2020-08-25 01:00:00</td>\n",
       "      <td>1.2</td>\n",
       "      <td>0.14</td>\n",
       "      <td>94</td>\n",
       "      <td>79</td>\n",
       "    </tr>\n",
       "    <tr>\n",
       "      <th>2</th>\n",
       "      <td>2020-08-25 02:00:00</td>\n",
       "      <td>1.0</td>\n",
       "      <td>0.12</td>\n",
       "      <td>94</td>\n",
       "      <td>79</td>\n",
       "    </tr>\n",
       "    <tr>\n",
       "      <th>3</th>\n",
       "      <td>2020-08-25 03:00:00</td>\n",
       "      <td>1.0</td>\n",
       "      <td>0.12</td>\n",
       "      <td>94</td>\n",
       "      <td>79</td>\n",
       "    </tr>\n",
       "    <tr>\n",
       "      <th>4</th>\n",
       "      <td>2020-08-25 04:00:00</td>\n",
       "      <td>1.5</td>\n",
       "      <td>0.18</td>\n",
       "      <td>94</td>\n",
       "      <td>79</td>\n",
       "    </tr>\n",
       "    <tr>\n",
       "      <th>...</th>\n",
       "      <td>...</td>\n",
       "      <td>...</td>\n",
       "      <td>...</td>\n",
       "      <td>...</td>\n",
       "      <td>...</td>\n",
       "    </tr>\n",
       "    <tr>\n",
       "      <th>1435</th>\n",
       "      <td>2020-11-02 19:00:00</td>\n",
       "      <td>1.8</td>\n",
       "      <td>0.23</td>\n",
       "      <td>72</td>\n",
       "      <td>51</td>\n",
       "    </tr>\n",
       "    <tr>\n",
       "      <th>1436</th>\n",
       "      <td>2020-11-02 20:00:00</td>\n",
       "      <td>0.9</td>\n",
       "      <td>0.11</td>\n",
       "      <td>72</td>\n",
       "      <td>51</td>\n",
       "    </tr>\n",
       "    <tr>\n",
       "      <th>1437</th>\n",
       "      <td>2020-11-02 21:00:00</td>\n",
       "      <td>0.7</td>\n",
       "      <td>0.09</td>\n",
       "      <td>72</td>\n",
       "      <td>51</td>\n",
       "    </tr>\n",
       "    <tr>\n",
       "      <th>1438</th>\n",
       "      <td>2020-11-02 22:00:00</td>\n",
       "      <td>0.7</td>\n",
       "      <td>0.08</td>\n",
       "      <td>72</td>\n",
       "      <td>51</td>\n",
       "    </tr>\n",
       "    <tr>\n",
       "      <th>1439</th>\n",
       "      <td>2020-11-02 23:00:00</td>\n",
       "      <td>0.6</td>\n",
       "      <td>0.07</td>\n",
       "      <td>72</td>\n",
       "      <td>51</td>\n",
       "    </tr>\n",
       "  </tbody>\n",
       "</table>\n",
       "<p>1440 rows × 5 columns</p>\n",
       "</div>"
      ],
      "text/plain": [
       "                    Date  Usage (kWh)  Cost ($)  Hi  Low\n",
       "0    2020-08-25 00:00:00          1.1      0.13  94   79\n",
       "1    2020-08-25 01:00:00          1.2      0.14  94   79\n",
       "2    2020-08-25 02:00:00          1.0      0.12  94   79\n",
       "3    2020-08-25 03:00:00          1.0      0.12  94   79\n",
       "4    2020-08-25 04:00:00          1.5      0.18  94   79\n",
       "...                  ...          ...       ...  ..  ...\n",
       "1435 2020-11-02 19:00:00          1.8      0.23  72   51\n",
       "1436 2020-11-02 20:00:00          0.9      0.11  72   51\n",
       "1437 2020-11-02 21:00:00          0.7      0.09  72   51\n",
       "1438 2020-11-02 22:00:00          0.7      0.08  72   51\n",
       "1439 2020-11-02 23:00:00          0.6      0.07  72   51\n",
       "\n",
       "[1440 rows x 5 columns]"
      ]
     },
     "execution_count": 9,
     "metadata": {},
     "output_type": "execute_result"
    }
   ],
   "source": [
    "result"
   ]
  },
  {
   "cell_type": "code",
   "execution_count": 10,
   "metadata": {},
   "outputs": [
    {
     "data": {
      "text/plain": [
       "(1440, 5)"
      ]
     },
     "execution_count": 10,
     "metadata": {},
     "output_type": "execute_result"
    }
   ],
   "source": [
    "result.shape"
   ]
  },
  {
   "cell_type": "code",
   "execution_count": 13,
   "metadata": {},
   "outputs": [
    {
     "name": "stdout",
     "output_type": "stream",
     "text": [
      "data ranges from 2020-08-25 00:00:00 to 2020-11-02 23:00:00.\n"
     ]
    }
   ],
   "source": [
    "print('data ranges from {} to {}.'.format(min(result.Date), max(result.Date)))"
   ]
  },
  {
   "cell_type": "markdown",
   "metadata": {},
   "source": [
    "## kusto database"
   ]
  },
  {
   "cell_type": "code",
   "execution_count": 18,
   "metadata": {},
   "outputs": [],
   "source": [
    "#! conda install -c conda-forge pyodbc -y"
   ]
  },
  {
   "cell_type": "code",
   "execution_count": 19,
   "metadata": {},
   "outputs": [],
   "source": [
    "#! pip install azure-kusto-data azure-kusto-ingest"
   ]
  },
  {
   "cell_type": "code",
   "execution_count": 21,
   "metadata": {},
   "outputs": [
    {
     "name": "stdout",
     "output_type": "stream",
     "text": [
      "imported additional modules.\n"
     ]
    }
   ],
   "source": [
    "import azure.kusto.data\n",
    "import azure.kusto.ingest\n",
    "print('imported additional modules.')"
   ]
  },
  {
   "cell_type": "markdown",
   "metadata": {},
   "source": [
    "## query kusto"
   ]
  },
  {
   "cell_type": "code",
   "execution_count": null,
   "metadata": {},
   "outputs": [],
   "source": [
    "KCSB = KustoConnectionStringBuilder.with_aad_application_key_authentication(kusto_creds['cluster_uri'], \n",
    "                                                                            kusto_creds['client_id'], \n",
    "                                                                            kusto_creds['client_secret'], \n",
    "                                                                            kusto_creds['tenant_id'])\n",
    "\n",
    "kusto_client = KustoClient(KCSB)\n",
    "kusto_ingest_client = KustoStreamingIngestClient(KCSB)\n",
    "    \n",
    "database = \"sourceWellDatabase\"\n",
    "\n",
    "start = time.time()\n",
    "try:\n",
    "    response = kusto_client.execute(database, query)\n",
    "    end = time.time()\n",
    "    print('executed query in {} seconds.'.format(round(end-start,4)))\n",
    "    dataframe = dataframe_from_result_table(response.primary_results[0])\n",
    "    return(dataframe)\n",
    "\n",
    "except:\n",
    "    print('error.')"
   ]
  },
  {
   "cell_type": "code",
   "execution_count": null,
   "metadata": {},
   "outputs": [],
   "source": []
  },
  {
   "cell_type": "code",
   "execution_count": null,
   "metadata": {},
   "outputs": [],
   "source": []
  }
 ],
 "metadata": {
  "kernelspec": {
   "display_name": "reliant-37",
   "language": "python",
   "name": "reliant-37"
  },
  "language_info": {
   "codemirror_mode": {
    "name": "ipython",
    "version": 3
   },
   "file_extension": ".py",
   "mimetype": "text/x-python",
   "name": "python",
   "nbconvert_exporter": "python",
   "pygments_lexer": "ipython3",
   "version": "3.7.9"
  }
 },
 "nbformat": 4,
 "nbformat_minor": 4
}
