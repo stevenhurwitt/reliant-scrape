<<<<<<< HEAD
<<<<<<< HEAD
=======
>>>>>>> 6f9487f43f8f3df92ac4552653c5d8380b025e10
{
 "cells": [
  {
   "cell_type": "markdown",
   "metadata": {},
   "source": [
    "# usage check"
   ]
  },
  {
   "cell_type": "code",
<<<<<<< HEAD
   "execution_count": 5,
=======
   "execution_count": 13,
>>>>>>> 6f9487f43f8f3df92ac4552653c5d8380b025e10
   "metadata": {},
   "outputs": [
    {
     "name": "stdout",
     "output_type": "stream",
     "text": [
      "imported modules\n"
     ]
    }
   ],
   "source": [
    "from sqlalchemy import create_engine, types\n",
    "from datetime import datetime, timedelta\n",
    "from IPython.display import display\n",
    "import matplotlib.pyplot as plt\n",
    "import reliant_scrape as rs\n",
    "import mysql.connector\n",
    "import pandas as pd\n",
    "import numpy as np\n",
    "import pprint\n",
    "import boto3\n",
    "import boto\n",
    "import json\n",
    "import sys\n",
    "import os\n",
    "\n",
    "base = os.path.join('C:\\\\', 'Users', 'steve', 'Documents', 'reliant-scrape')\n",
    "data = os.path.join(base, 'data')\n",
    "pp = pprint.PrettyPrinter(indent = 1)\n",
    "\n",
    "with open('db_creds.json', 'r') as f:\n",
    "    db_creds = json.load(f)\n",
    "print('imported modules')"
   ]
  },
  {
   "cell_type": "markdown",
   "metadata": {},
   "source": [
    "## get dataset"
   ]
  },
  {
   "cell_type": "code",
<<<<<<< HEAD
   "execution_count": 7,
=======
   "execution_count": 14,
>>>>>>> 6f9487f43f8f3df92ac4552653c5d8380b025e10
   "metadata": {},
   "outputs": [
    {
     "name": "stdout",
     "output_type": "stream",
     "text": [
      "data has data types: Date           datetime64[ns]\n",
      "Usage (kWh)           float64\n",
      "Cost ($)              float64\n",
      "Hi                      int64\n",
      "Low                     int64\n",
      "dtype: object.\n",
<<<<<<< HEAD
      "data has shape: (1032, 5)\n"
=======
      "data has shape: (1152, 5)\n"
>>>>>>> 6f9487f43f8f3df92ac4552653c5d8380b025e10
     ]
    }
   ],
   "source": [
    "master = rs.mysql_query('SELECT * FROM reliant_energy_db.daily_use', db_creds)\n",
    "print('data has data types: {}.'.format(master.dtypes))\n",
    "print('data has shape: {}'.format(master.shape))"
   ]
  },
  {
   "cell_type": "code",
<<<<<<< HEAD
   "execution_count": 8,
=======
   "execution_count": 15,
>>>>>>> 6f9487f43f8f3df92ac4552653c5d8380b025e10
   "metadata": {},
   "outputs": [
    {
     "data": {
      "text/html": [
       "<div>\n",
       "<style scoped>\n",
       "    .dataframe tbody tr th:only-of-type {\n",
       "        vertical-align: middle;\n",
       "    }\n",
       "\n",
       "    .dataframe tbody tr th {\n",
       "        vertical-align: top;\n",
       "    }\n",
       "\n",
       "    .dataframe thead th {\n",
       "        text-align: right;\n",
       "    }\n",
       "</style>\n",
       "<table border=\"1\" class=\"dataframe\">\n",
       "  <thead>\n",
       "    <tr style=\"text-align: right;\">\n",
       "      <th></th>\n",
       "      <th>min_date</th>\n",
       "      <th>max_date</th>\n",
       "      <th>count</th>\n",
       "    </tr>\n",
       "  </thead>\n",
       "  <tbody>\n",
       "    <tr>\n",
       "      <th>0</th>\n",
       "      <td>2020-08-25</td>\n",
<<<<<<< HEAD
       "      <td>2020-10-13 23:00:00</td>\n",
       "      <td>1032</td>\n",
=======
       "      <td>2020-10-19 23:00:00</td>\n",
       "      <td>1152</td>\n",
>>>>>>> 6f9487f43f8f3df92ac4552653c5d8380b025e10
       "    </tr>\n",
       "  </tbody>\n",
       "</table>\n",
       "</div>"
      ],
      "text/plain": [
       "    min_date            max_date  count\n",
<<<<<<< HEAD
       "0 2020-08-25 2020-10-13 23:00:00   1032"
      ]
     },
     "execution_count": 8,
=======
       "0 2020-08-25 2020-10-19 23:00:00   1152"
      ]
     },
     "execution_count": 15,
>>>>>>> 6f9487f43f8f3df92ac4552653c5d8380b025e10
     "metadata": {},
     "output_type": "execute_result"
    }
   ],
   "source": [
    "metadata = rs.mysql_query('SELECT MIN(Date) as min_date, MAX(Date) as max_date, COUNT(*) as count FROM reliant_energy_db.daily_use', db_creds)\n",
    "metadata"
   ]
  },
  {
   "cell_type": "markdown",
   "metadata": {},
   "source": [
    "## master data"
   ]
  },
  {
   "cell_type": "code",
<<<<<<< HEAD
   "execution_count": 7,
=======
   "execution_count": 4,
>>>>>>> 6f9487f43f8f3df92ac4552653c5d8380b025e10
   "metadata": {},
   "outputs": [
    {
     "data": {
      "text/html": [
       "<div>\n",
       "<style scoped>\n",
       "    .dataframe tbody tr th:only-of-type {\n",
       "        vertical-align: middle;\n",
       "    }\n",
       "\n",
       "    .dataframe tbody tr th {\n",
       "        vertical-align: top;\n",
       "    }\n",
       "\n",
       "    .dataframe thead th {\n",
       "        text-align: right;\n",
       "    }\n",
       "</style>\n",
       "<table border=\"1\" class=\"dataframe\">\n",
       "  <thead>\n",
       "    <tr style=\"text-align: right;\">\n",
       "      <th></th>\n",
       "      <th>Date</th>\n",
       "      <th>Usage (kWh)</th>\n",
       "      <th>Cost ($)</th>\n",
       "      <th>Hi</th>\n",
       "      <th>Low</th>\n",
       "    </tr>\n",
       "  </thead>\n",
       "  <tbody>\n",
       "    <tr>\n",
       "      <th>0</th>\n",
       "      <td>2020-08-25 00:00:00</td>\n",
       "      <td>1.1</td>\n",
       "      <td>0.13</td>\n",
       "      <td>94</td>\n",
       "      <td>79</td>\n",
       "    </tr>\n",
       "    <tr>\n",
       "      <th>1</th>\n",
       "      <td>2020-08-25 01:00:00</td>\n",
       "      <td>1.2</td>\n",
       "      <td>0.14</td>\n",
       "      <td>94</td>\n",
       "      <td>79</td>\n",
       "    </tr>\n",
       "    <tr>\n",
       "      <th>2</th>\n",
       "      <td>2020-08-25 02:00:00</td>\n",
       "      <td>1.0</td>\n",
       "      <td>0.12</td>\n",
       "      <td>94</td>\n",
       "      <td>79</td>\n",
       "    </tr>\n",
       "    <tr>\n",
       "      <th>3</th>\n",
       "      <td>2020-08-25 03:00:00</td>\n",
       "      <td>1.0</td>\n",
       "      <td>0.12</td>\n",
       "      <td>94</td>\n",
       "      <td>79</td>\n",
       "    </tr>\n",
       "    <tr>\n",
       "      <th>4</th>\n",
       "      <td>2020-08-25 04:00:00</td>\n",
       "      <td>1.5</td>\n",
       "      <td>0.18</td>\n",
       "      <td>94</td>\n",
       "      <td>79</td>\n",
       "    </tr>\n",
       "  </tbody>\n",
       "</table>\n",
       "</div>"
      ],
      "text/plain": [
       "                 Date  Usage (kWh)  Cost ($)  Hi  Low\n",
       "0 2020-08-25 00:00:00          1.1      0.13  94   79\n",
       "1 2020-08-25 01:00:00          1.2      0.14  94   79\n",
       "2 2020-08-25 02:00:00          1.0      0.12  94   79\n",
       "3 2020-08-25 03:00:00          1.0      0.12  94   79\n",
       "4 2020-08-25 04:00:00          1.5      0.18  94   79"
      ]
     },
<<<<<<< HEAD
     "execution_count": 7,
=======
     "execution_count": 4,
>>>>>>> 6f9487f43f8f3df92ac4552653c5d8380b025e10
     "metadata": {},
     "output_type": "execute_result"
    }
   ],
   "source": [
    "master.head()"
   ]
  },
  {
   "cell_type": "code",
<<<<<<< HEAD
   "execution_count": 8,
=======
   "execution_count": 5,
>>>>>>> 6f9487f43f8f3df92ac4552653c5d8380b025e10
   "metadata": {},
   "outputs": [
    {
     "data": {
      "text/html": [
       "<div>\n",
       "<style scoped>\n",
       "    .dataframe tbody tr th:only-of-type {\n",
       "        vertical-align: middle;\n",
       "    }\n",
       "\n",
       "    .dataframe tbody tr th {\n",
       "        vertical-align: top;\n",
       "    }\n",
       "\n",
       "    .dataframe thead th {\n",
       "        text-align: right;\n",
       "    }\n",
       "</style>\n",
       "<table border=\"1\" class=\"dataframe\">\n",
       "  <thead>\n",
       "    <tr style=\"text-align: right;\">\n",
       "      <th></th>\n",
       "      <th>Date</th>\n",
       "      <th>Usage (kWh)</th>\n",
       "      <th>Cost ($)</th>\n",
       "      <th>Hi</th>\n",
       "      <th>Low</th>\n",
       "    </tr>\n",
       "  </thead>\n",
       "  <tbody>\n",
       "    <tr>\n",
<<<<<<< HEAD
       "      <th>979</th>\n",
       "      <td>2020-10-10 19:00:00</td>\n",
       "      <td>5.3</td>\n",
       "      <td>0.64</td>\n",
       "      <td>86</td>\n",
       "      <td>68</td>\n",
       "    </tr>\n",
       "    <tr>\n",
       "      <th>980</th>\n",
       "      <td>2020-10-10 20:00:00</td>\n",
       "      <td>3.1</td>\n",
       "      <td>0.37</td>\n",
       "      <td>86</td>\n",
       "      <td>68</td>\n",
       "    </tr>\n",
       "    <tr>\n",
       "      <th>981</th>\n",
       "      <td>2020-10-10 21:00:00</td>\n",
       "      <td>2.4</td>\n",
       "      <td>0.29</td>\n",
       "      <td>86</td>\n",
       "      <td>68</td>\n",
       "    </tr>\n",
       "    <tr>\n",
       "      <th>982</th>\n",
       "      <td>2020-10-10 22:00:00</td>\n",
       "      <td>2.4</td>\n",
       "      <td>0.29</td>\n",
       "      <td>86</td>\n",
       "      <td>68</td>\n",
       "    </tr>\n",
       "    <tr>\n",
       "      <th>983</th>\n",
       "      <td>2020-10-10 23:00:00</td>\n",
       "      <td>2.2</td>\n",
       "      <td>0.26</td>\n",
       "      <td>86</td>\n",
       "      <td>68</td>\n",
=======
       "      <th>1123</th>\n",
       "      <td>2020-10-17 19:00:00</td>\n",
       "      <td>1.6</td>\n",
       "      <td>0.19</td>\n",
       "      <td>80</td>\n",
       "      <td>65</td>\n",
       "    </tr>\n",
       "    <tr>\n",
       "      <th>1124</th>\n",
       "      <td>2020-10-17 20:00:00</td>\n",
       "      <td>1.5</td>\n",
       "      <td>0.19</td>\n",
       "      <td>80</td>\n",
       "      <td>65</td>\n",
       "    </tr>\n",
       "    <tr>\n",
       "      <th>1125</th>\n",
       "      <td>2020-10-17 21:00:00</td>\n",
       "      <td>1.5</td>\n",
       "      <td>0.18</td>\n",
       "      <td>80</td>\n",
       "      <td>65</td>\n",
       "    </tr>\n",
       "    <tr>\n",
       "      <th>1126</th>\n",
       "      <td>2020-10-17 22:00:00</td>\n",
       "      <td>1.9</td>\n",
       "      <td>0.24</td>\n",
       "      <td>80</td>\n",
       "      <td>65</td>\n",
       "    </tr>\n",
       "    <tr>\n",
       "      <th>1127</th>\n",
       "      <td>2020-10-17 23:00:00</td>\n",
       "      <td>4.2</td>\n",
       "      <td>0.51</td>\n",
       "      <td>80</td>\n",
       "      <td>65</td>\n",
>>>>>>> 6f9487f43f8f3df92ac4552653c5d8380b025e10
       "    </tr>\n",
       "  </tbody>\n",
       "</table>\n",
       "</div>"
      ],
      "text/plain": [
<<<<<<< HEAD
       "                   Date  Usage (kWh)  Cost ($)  Hi  Low\n",
       "979 2020-10-10 19:00:00          5.3      0.64  86   68\n",
       "980 2020-10-10 20:00:00          3.1      0.37  86   68\n",
       "981 2020-10-10 21:00:00          2.4      0.29  86   68\n",
       "982 2020-10-10 22:00:00          2.4      0.29  86   68\n",
       "983 2020-10-10 23:00:00          2.2      0.26  86   68"
      ]
     },
     "execution_count": 8,
=======
       "                    Date  Usage (kWh)  Cost ($)  Hi  Low\n",
       "1123 2020-10-17 19:00:00          1.6      0.19  80   65\n",
       "1124 2020-10-17 20:00:00          1.5      0.19  80   65\n",
       "1125 2020-10-17 21:00:00          1.5      0.18  80   65\n",
       "1126 2020-10-17 22:00:00          1.9      0.24  80   65\n",
       "1127 2020-10-17 23:00:00          4.2      0.51  80   65"
      ]
     },
     "execution_count": 5,
>>>>>>> 6f9487f43f8f3df92ac4552653c5d8380b025e10
     "metadata": {},
     "output_type": "execute_result"
    }
   ],
   "source": [
    "master.tail()"
   ]
  },
  {
   "cell_type": "markdown",
   "metadata": {},
   "source": [
    "## plots"
   ]
  },
  {
   "cell_type": "code",
<<<<<<< HEAD
   "execution_count": 10,
=======
   "execution_count": 6,
>>>>>>> 6f9487f43f8f3df92ac4552653c5d8380b025e10
   "metadata": {},
   "outputs": [
    {
     "data": {
<<<<<<< HEAD
      "image/png": "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\n",
=======
      "image/png": "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\n",
>>>>>>> 6f9487f43f8f3df92ac4552653c5d8380b025e10
      "text/plain": [
       "<Figure size 432x288 with 1 Axes>"
      ]
     },
     "metadata": {
      "needs_background": "light"
     },
     "output_type": "display_data"
    }
   ],
   "source": [
    "plt.title('Electricity Usage (kWh)')\n",
    "plt.xlabel('Date')\n",
    "plt.ylabel('kWh')\n",
    "plt.plot(master['Usage (kWh)'])\n",
    "plt.show()"
   ]
  },
  {
   "cell_type": "code",
<<<<<<< HEAD
   "execution_count": 11,
=======
   "execution_count": 7,
>>>>>>> 6f9487f43f8f3df92ac4552653c5d8380b025e10
   "metadata": {},
   "outputs": [
    {
     "data": {
<<<<<<< HEAD
      "image/png": "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\n",
=======
      "image/png": "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\n",
>>>>>>> 6f9487f43f8f3df92ac4552653c5d8380b025e10
      "text/plain": [
       "<Figure size 432x288 with 1 Axes>"
      ]
     },
     "metadata": {
      "needs_background": "light"
     },
     "output_type": "display_data"
    }
   ],
   "source": [
    "plt.title('Temperature (Hi/Low)')\n",
    "plt.xlabel('Date')\n",
    "plt.ylabel('Temperature (F)')\n",
    "plt.plot(master['Hi'], color = 'red')\n",
    "plt.plot(master['Low'], color = 'purple')\n",
    "plt.show()"
   ]
  },
  {
   "cell_type": "code",
   "execution_count": null,
   "metadata": {},
   "outputs": [],
   "source": []
  }
 ],
 "metadata": {
  "kernelspec": {
<<<<<<< HEAD
   "display_name": "reliant",
   "language": "python",
   "name": "reliant"
=======
   "display_name": "reliant-37",
   "language": "python",
   "name": "reliant-37"
>>>>>>> 6f9487f43f8f3df92ac4552653c5d8380b025e10
  },
  "language_info": {
   "codemirror_mode": {
    "name": "ipython",
    "version": 3
   },
   "file_extension": ".py",
   "mimetype": "text/x-python",
   "name": "python",
   "nbconvert_exporter": "python",
   "pygments_lexer": "ipython3",
   "version": "3.7.9"
  }
 },
 "nbformat": 4,
 "nbformat_minor": 4
}
<<<<<<< HEAD
=======
{
 "cells": [
  {
   "cell_type": "markdown",
   "metadata": {},
   "source": [
    "# usage check"
   ]
  },
  {
   "cell_type": "code",
   "execution_count": 13,
   "metadata": {},
   "outputs": [
    {
     "name": "stdout",
     "output_type": "stream",
     "text": [
      "imported modules\n"
     ]
    }
   ],
   "source": [
    "from sqlalchemy import create_engine, types\n",
    "from datetime import datetime, timedelta\n",
    "from IPython.display import display\n",
    "import matplotlib.pyplot as plt\n",
    "import reliant_scrape as rs\n",
    "import mysql.connector\n",
    "import pandas as pd\n",
    "import numpy as np\n",
    "import pprint\n",
    "import boto3\n",
    "import boto\n",
    "import json\n",
    "import sys\n",
    "import os\n",
    "\n",
    "base = os.path.join('C:\\\\', 'Users', 'steve', 'Documents', 'reliant-scrape')\n",
    "data = os.path.join(base, 'data')\n",
    "pp = pprint.PrettyPrinter(indent = 1)\n",
    "\n",
    "with open('db_creds.json', 'r') as f:\n",
    "    db_creds = json.load(f)\n",
    "print('imported modules')"
   ]
  },
  {
   "cell_type": "markdown",
   "metadata": {},
   "source": [
    "## get dataset"
   ]
  },
  {
   "cell_type": "code",
   "execution_count": 14,
   "metadata": {},
   "outputs": [
    {
     "name": "stdout",
     "output_type": "stream",
     "text": [
      "data has data types: Date           datetime64[ns]\n",
      "Usage (kWh)           float64\n",
      "Cost ($)              float64\n",
      "Hi                      int64\n",
      "Low                     int64\n",
      "dtype: object.\n",
      "data has shape: (1152, 5)\n"
     ]
    }
   ],
   "source": [
    "master = rs.mysql_query('SELECT * FROM reliant_energy_db.daily_use', db_creds)\n",
    "print('data has data types: {}.'.format(master.dtypes))\n",
    "print('data has shape: {}'.format(master.shape))"
   ]
  },
  {
   "cell_type": "code",
   "execution_count": 15,
   "metadata": {},
   "outputs": [
    {
     "data": {
      "text/html": [
       "<div>\n",
       "<style scoped>\n",
       "    .dataframe tbody tr th:only-of-type {\n",
       "        vertical-align: middle;\n",
       "    }\n",
       "\n",
       "    .dataframe tbody tr th {\n",
       "        vertical-align: top;\n",
       "    }\n",
       "\n",
       "    .dataframe thead th {\n",
       "        text-align: right;\n",
       "    }\n",
       "</style>\n",
       "<table border=\"1\" class=\"dataframe\">\n",
       "  <thead>\n",
       "    <tr style=\"text-align: right;\">\n",
       "      <th></th>\n",
       "      <th>min_date</th>\n",
       "      <th>max_date</th>\n",
       "      <th>count</th>\n",
       "    </tr>\n",
       "  </thead>\n",
       "  <tbody>\n",
       "    <tr>\n",
       "      <th>0</th>\n",
       "      <td>2020-08-25</td>\n",
       "      <td>2020-10-19 23:00:00</td>\n",
       "      <td>1152</td>\n",
       "    </tr>\n",
       "  </tbody>\n",
       "</table>\n",
       "</div>"
      ],
      "text/plain": [
       "    min_date            max_date  count\n",
       "0 2020-08-25 2020-10-19 23:00:00   1152"
      ]
     },
     "execution_count": 15,
     "metadata": {},
     "output_type": "execute_result"
    }
   ],
   "source": [
    "metadata = rs.mysql_query('SELECT MIN(Date) as min_date, MAX(Date) as max_date, COUNT(*) as count FROM reliant_energy_db.daily_use', db_creds)\n",
    "metadata"
   ]
  },
  {
   "cell_type": "markdown",
   "metadata": {},
   "source": [
    "## master data"
   ]
  },
  {
   "cell_type": "code",
   "execution_count": 4,
   "metadata": {},
   "outputs": [
    {
     "data": {
      "text/html": [
       "<div>\n",
       "<style scoped>\n",
       "    .dataframe tbody tr th:only-of-type {\n",
       "        vertical-align: middle;\n",
       "    }\n",
       "\n",
       "    .dataframe tbody tr th {\n",
       "        vertical-align: top;\n",
       "    }\n",
       "\n",
       "    .dataframe thead th {\n",
       "        text-align: right;\n",
       "    }\n",
       "</style>\n",
       "<table border=\"1\" class=\"dataframe\">\n",
       "  <thead>\n",
       "    <tr style=\"text-align: right;\">\n",
       "      <th></th>\n",
       "      <th>Date</th>\n",
       "      <th>Usage (kWh)</th>\n",
       "      <th>Cost ($)</th>\n",
       "      <th>Hi</th>\n",
       "      <th>Low</th>\n",
       "    </tr>\n",
       "  </thead>\n",
       "  <tbody>\n",
       "    <tr>\n",
       "      <th>0</th>\n",
       "      <td>2020-08-25 00:00:00</td>\n",
       "      <td>1.1</td>\n",
       "      <td>0.13</td>\n",
       "      <td>94</td>\n",
       "      <td>79</td>\n",
       "    </tr>\n",
       "    <tr>\n",
       "      <th>1</th>\n",
       "      <td>2020-08-25 01:00:00</td>\n",
       "      <td>1.2</td>\n",
       "      <td>0.14</td>\n",
       "      <td>94</td>\n",
       "      <td>79</td>\n",
       "    </tr>\n",
       "    <tr>\n",
       "      <th>2</th>\n",
       "      <td>2020-08-25 02:00:00</td>\n",
       "      <td>1.0</td>\n",
       "      <td>0.12</td>\n",
       "      <td>94</td>\n",
       "      <td>79</td>\n",
       "    </tr>\n",
       "    <tr>\n",
       "      <th>3</th>\n",
       "      <td>2020-08-25 03:00:00</td>\n",
       "      <td>1.0</td>\n",
       "      <td>0.12</td>\n",
       "      <td>94</td>\n",
       "      <td>79</td>\n",
       "    </tr>\n",
       "    <tr>\n",
       "      <th>4</th>\n",
       "      <td>2020-08-25 04:00:00</td>\n",
       "      <td>1.5</td>\n",
       "      <td>0.18</td>\n",
       "      <td>94</td>\n",
       "      <td>79</td>\n",
       "    </tr>\n",
       "  </tbody>\n",
       "</table>\n",
       "</div>"
      ],
      "text/plain": [
       "                 Date  Usage (kWh)  Cost ($)  Hi  Low\n",
       "0 2020-08-25 00:00:00          1.1      0.13  94   79\n",
       "1 2020-08-25 01:00:00          1.2      0.14  94   79\n",
       "2 2020-08-25 02:00:00          1.0      0.12  94   79\n",
       "3 2020-08-25 03:00:00          1.0      0.12  94   79\n",
       "4 2020-08-25 04:00:00          1.5      0.18  94   79"
      ]
     },
     "execution_count": 4,
     "metadata": {},
     "output_type": "execute_result"
    }
   ],
   "source": [
    "master.head()"
   ]
  },
  {
   "cell_type": "code",
   "execution_count": 5,
   "metadata": {},
   "outputs": [
    {
     "data": {
      "text/html": [
       "<div>\n",
       "<style scoped>\n",
       "    .dataframe tbody tr th:only-of-type {\n",
       "        vertical-align: middle;\n",
       "    }\n",
       "\n",
       "    .dataframe tbody tr th {\n",
       "        vertical-align: top;\n",
       "    }\n",
       "\n",
       "    .dataframe thead th {\n",
       "        text-align: right;\n",
       "    }\n",
       "</style>\n",
       "<table border=\"1\" class=\"dataframe\">\n",
       "  <thead>\n",
       "    <tr style=\"text-align: right;\">\n",
       "      <th></th>\n",
       "      <th>Date</th>\n",
       "      <th>Usage (kWh)</th>\n",
       "      <th>Cost ($)</th>\n",
       "      <th>Hi</th>\n",
       "      <th>Low</th>\n",
       "    </tr>\n",
       "  </thead>\n",
       "  <tbody>\n",
       "    <tr>\n",
       "      <th>1123</th>\n",
       "      <td>2020-10-17 19:00:00</td>\n",
       "      <td>1.6</td>\n",
       "      <td>0.19</td>\n",
       "      <td>80</td>\n",
       "      <td>65</td>\n",
       "    </tr>\n",
       "    <tr>\n",
       "      <th>1124</th>\n",
       "      <td>2020-10-17 20:00:00</td>\n",
       "      <td>1.5</td>\n",
       "      <td>0.19</td>\n",
       "      <td>80</td>\n",
       "      <td>65</td>\n",
       "    </tr>\n",
       "    <tr>\n",
       "      <th>1125</th>\n",
       "      <td>2020-10-17 21:00:00</td>\n",
       "      <td>1.5</td>\n",
       "      <td>0.18</td>\n",
       "      <td>80</td>\n",
       "      <td>65</td>\n",
       "    </tr>\n",
       "    <tr>\n",
       "      <th>1126</th>\n",
       "      <td>2020-10-17 22:00:00</td>\n",
       "      <td>1.9</td>\n",
       "      <td>0.24</td>\n",
       "      <td>80</td>\n",
       "      <td>65</td>\n",
       "    </tr>\n",
       "    <tr>\n",
       "      <th>1127</th>\n",
       "      <td>2020-10-17 23:00:00</td>\n",
       "      <td>4.2</td>\n",
       "      <td>0.51</td>\n",
       "      <td>80</td>\n",
       "      <td>65</td>\n",
       "    </tr>\n",
       "  </tbody>\n",
       "</table>\n",
       "</div>"
      ],
      "text/plain": [
       "                    Date  Usage (kWh)  Cost ($)  Hi  Low\n",
       "1123 2020-10-17 19:00:00          1.6      0.19  80   65\n",
       "1124 2020-10-17 20:00:00          1.5      0.19  80   65\n",
       "1125 2020-10-17 21:00:00          1.5      0.18  80   65\n",
       "1126 2020-10-17 22:00:00          1.9      0.24  80   65\n",
       "1127 2020-10-17 23:00:00          4.2      0.51  80   65"
      ]
     },
     "execution_count": 5,
     "metadata": {},
     "output_type": "execute_result"
    }
   ],
   "source": [
    "master.tail()"
   ]
  },
  {
   "cell_type": "markdown",
   "metadata": {},
   "source": [
    "## plots"
   ]
  },
  {
   "cell_type": "code",
   "execution_count": 6,
   "metadata": {},
   "outputs": [
    {
     "data": {
      "image/png": "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\n",
      "text/plain": [
       "<Figure size 432x288 with 1 Axes>"
      ]
     },
     "metadata": {
      "needs_background": "light"
     },
     "output_type": "display_data"
    }
   ],
   "source": [
    "plt.title('Electricity Usage (kWh)')\n",
    "plt.xlabel('Date')\n",
    "plt.ylabel('kWh')\n",
    "plt.plot(master['Usage (kWh)'])\n",
    "plt.show()"
   ]
  },
  {
   "cell_type": "code",
   "execution_count": 7,
   "metadata": {},
   "outputs": [
    {
     "data": {
      "image/png": "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\n",
      "text/plain": [
       "<Figure size 432x288 with 1 Axes>"
      ]
     },
     "metadata": {
      "needs_background": "light"
     },
     "output_type": "display_data"
    }
   ],
   "source": [
    "plt.title('Temperature (Hi/Low)')\n",
    "plt.xlabel('Date')\n",
    "plt.ylabel('Temperature (F)')\n",
    "plt.plot(master['Hi'], color = 'red')\n",
    "plt.plot(master['Low'], color = 'purple')\n",
    "plt.show()"
   ]
  },
  {
   "cell_type": "code",
   "execution_count": null,
   "metadata": {},
   "outputs": [],
   "source": []
  }
 ],
 "metadata": {
  "kernelspec": {
   "display_name": "reliant-37",
   "language": "python",
   "name": "reliant-37"
  },
  "language_info": {
   "codemirror_mode": {
    "name": "ipython",
    "version": 3
   },
   "file_extension": ".py",
   "mimetype": "text/x-python",
   "name": "python",
   "nbconvert_exporter": "python",
   "pygments_lexer": "ipython3",
   "version": "3.7.9"
  }
 },
 "nbformat": 4,
 "nbformat_minor": 4
}
>>>>>>> f023c909399aadece916e7c192f399592e64c54e
=======
>>>>>>> 6f9487f43f8f3df92ac4552653c5d8380b025e10
