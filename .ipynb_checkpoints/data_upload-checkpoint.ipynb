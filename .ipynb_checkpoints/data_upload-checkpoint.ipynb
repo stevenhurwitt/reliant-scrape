<<<<<<< HEAD
{
 "cells": [],
 "metadata": {},
 "nbformat": 4,
 "nbformat_minor": 4
}
=======
{
 "cells": [],
 "metadata": {},
 "nbformat": 4,
 "nbformat_minor": 4
}
>>>>>>> 577e1861bb1146f799b8111d3fb49703d75517b9
