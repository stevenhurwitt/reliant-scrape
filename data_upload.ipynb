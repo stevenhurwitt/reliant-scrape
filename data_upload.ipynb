{
    "metadata": {
        "kernelspec": {
            "name": "reliant-37",
            "display_name": "reliant-37",
            "language": "python"
        },
        "language_info": {
            "name": "python",
            "version": "3.7.9-final",
            "mimetype": "text/x-python",
            "codemirror_mode": {
                "name": "ipython",
                "version": 3
            },
            "pygments_lexer": "ipython3",
            "nbconvert_exporter": "python",
            "file_extension": ".py"
        }
    },
    "nbformat_minor": 2,
    "nbformat": 4,
    "cells": [
        {
            "cell_type": "markdown",
            "source": [
                "# data upload"
            ],
            "metadata": {
                "azdata_cell_guid": "3d56cbc7-3d28-4050-8948-fcd8047b2342"
            }
        },
        {
            "cell_type": "code",
            "source": [
                "import os\n",
                "base = os.path.join('C:\\\\', 'Users', 'steve', 'Documents', 'reliant-scrape')\n",
                "os.chdir(base)"
            ],
            "metadata": {
                "azdata_cell_guid": "f7c01992-ebc7-401c-8231-09950f290e9e"
            },
            "outputs": [],
            "execution_count": 1
        },
        {
            "cell_type": "code",
            "source": [
                "from sqlalchemy import create_engine, types\n",
                "from datetime import datetime, timedelta\n",
                "from IPython.display import display\n",
                "import matplotlib.pyplot as plt\n",
                "import reliant_scrape as rs\n",
                "import pyodbc\n",
                "import pandas as pd\n",
                "import numpy as np\n",
                "import pprint\n",
                "import yaml\n",
                "import json\n",
                "import sys\n",
                "import os\n",
                "\n",
                "base = os.path.join('C:\\\\', 'Users', 'steve', 'Documents', 'reliant-scrape')\n",
                "data = os.path.join(base, 'data')\n",
                "pp = pprint.PrettyPrinter(indent = 1)\n",
                "\n",
                "with open('config.yaml', 'r') as f:\n",
                "    config = yaml.load(f, Loader = yaml.FullLoader)\n",
                "        \n",
                "with open('db_creds.json', 'r') as f:\n",
                "    db_creds = json.load(f)\n",
                "    \n",
                "print('loaded credentials & imported modules.')"
            ],
            "metadata": {
                "azdata_cell_guid": "166b05ee-8994-49fa-8fd7-ee6df44f25b9"
            },
            "outputs": [
                {
                    "output_type": "stream",
                    "name": "stdout",
                    "text": [
                        "loaded credentials & imported modules.\n"
                    ]
                }
            ],
            "execution_count": 2
        },
        {
            "cell_type": "code",
            "source": [
                "os.chdir(data)\n",
                "stage = pd.read_csv('master_usage_03132021_missing.csv')\n",
                "stage['Date'] = pd.to_datetime(stage['Date'])"
            ],
            "metadata": {
                "azdata_cell_guid": "41f22e4b-3f9f-4320-91dd-db96c2b06082"
            },
            "outputs": [],
            "execution_count": 3
        },
        {
            "cell_type": "code",
            "source": [
                "stage"
            ],
            "metadata": {
                "azdata_cell_guid": "bfe05085-e4f4-4dde-a6c5-98ef5a6855f9"
            },
            "outputs": [
                {
                    "output_type": "execute_result",
                    "data": {
                        "text/plain": [
                            "                   Date  Usage (kWh)  Cost ($)  Hi  Low\n",
                            "0   2021-03-07 00:00:00          0.8      0.10  68   45\n",
                            "1   2021-03-07 01:00:00          0.4      0.06  68   45\n",
                            "2   2021-03-07 02:00:00          0.2      0.03  68   45\n",
                            "3   2021-03-07 03:00:00          0.2      0.03  68   45\n",
                            "4   2021-03-07 04:00:00          0.2      0.03  68   45\n",
                            "..                  ...          ...       ...  ..  ...\n",
                            "307 2021-02-12 19:00:00          1.7      0.22  40   37\n",
                            "308 2021-02-12 20:00:00          1.2      0.15  40   37\n",
                            "309 2021-02-12 21:00:00          0.4      0.06  40   37\n",
                            "310 2021-02-12 22:00:00          0.8      0.11  40   37\n",
                            "311 2021-02-12 23:00:00          0.2      0.03  40   37\n",
                            "\n",
                            "[312 rows x 5 columns]"
                        ],
                        "text/html": "<div>\n<style scoped>\n    .dataframe tbody tr th:only-of-type {\n        vertical-align: middle;\n    }\n\n    .dataframe tbody tr th {\n        vertical-align: top;\n    }\n\n    .dataframe thead th {\n        text-align: right;\n    }\n</style>\n<table border=\"1\" class=\"dataframe\">\n  <thead>\n    <tr style=\"text-align: right;\">\n      <th></th>\n      <th>Date</th>\n      <th>Usage (kWh)</th>\n      <th>Cost ($)</th>\n      <th>Hi</th>\n      <th>Low</th>\n    </tr>\n  </thead>\n  <tbody>\n    <tr>\n      <th>0</th>\n      <td>2021-03-07 00:00:00</td>\n      <td>0.8</td>\n      <td>0.10</td>\n      <td>68</td>\n      <td>45</td>\n    </tr>\n    <tr>\n      <th>1</th>\n      <td>2021-03-07 01:00:00</td>\n      <td>0.4</td>\n      <td>0.06</td>\n      <td>68</td>\n      <td>45</td>\n    </tr>\n    <tr>\n      <th>2</th>\n      <td>2021-03-07 02:00:00</td>\n      <td>0.2</td>\n      <td>0.03</td>\n      <td>68</td>\n      <td>45</td>\n    </tr>\n    <tr>\n      <th>3</th>\n      <td>2021-03-07 03:00:00</td>\n      <td>0.2</td>\n      <td>0.03</td>\n      <td>68</td>\n      <td>45</td>\n    </tr>\n    <tr>\n      <th>4</th>\n      <td>2021-03-07 04:00:00</td>\n      <td>0.2</td>\n      <td>0.03</td>\n      <td>68</td>\n      <td>45</td>\n    </tr>\n    <tr>\n      <th>...</th>\n      <td>...</td>\n      <td>...</td>\n      <td>...</td>\n      <td>...</td>\n      <td>...</td>\n    </tr>\n    <tr>\n      <th>307</th>\n      <td>2021-02-12 19:00:00</td>\n      <td>1.7</td>\n      <td>0.22</td>\n      <td>40</td>\n      <td>37</td>\n    </tr>\n    <tr>\n      <th>308</th>\n      <td>2021-02-12 20:00:00</td>\n      <td>1.2</td>\n      <td>0.15</td>\n      <td>40</td>\n      <td>37</td>\n    </tr>\n    <tr>\n      <th>309</th>\n      <td>2021-02-12 21:00:00</td>\n      <td>0.4</td>\n      <td>0.06</td>\n      <td>40</td>\n      <td>37</td>\n    </tr>\n    <tr>\n      <th>310</th>\n      <td>2021-02-12 22:00:00</td>\n      <td>0.8</td>\n      <td>0.11</td>\n      <td>40</td>\n      <td>37</td>\n    </tr>\n    <tr>\n      <th>311</th>\n      <td>2021-02-12 23:00:00</td>\n      <td>0.2</td>\n      <td>0.03</td>\n      <td>40</td>\n      <td>37</td>\n    </tr>\n  </tbody>\n</table>\n<p>312 rows × 5 columns</p>\n</div>"
                    },
                    "metadata": {},
                    "execution_count": 4
                }
            ],
            "execution_count": 4
        },
        {
            "cell_type": "code",
            "source": [
                "rs.table_upload(stage, 'reliant_energy_db', 'daily_use', db_creds)\n",
                "print('uploaded data.')"
            ],
            "metadata": {
                "azdata_cell_guid": "82bbd091-e6f0-427a-9389-09bb6c13d30d"
            },
            "outputs": [
                {
                    "output_type": "stream",
                    "name": "stdout",
                    "text": [
                        "wrote df to sql table.\nuploaded data.\n"
                    ]
                }
            ],
            "execution_count": 5
        },
        {
            "cell_type": "code",
            "source": [],
            "metadata": {
                "azdata_cell_guid": "127d97f9-5aed-46e4-85d1-49806c0a08a0"
            },
            "outputs": [],
            "execution_count": null
        }
    ]
}