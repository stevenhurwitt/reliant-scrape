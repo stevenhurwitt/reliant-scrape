{
    "metadata": {
        "kernelspec": {
            "name": "python3",
            "display_name": "Python 3",
            "language": "python"
        },
        "language_info": {
            "name": "python",
            "version": "3.8.3",
            "mimetype": "text/x-python",
            "codemirror_mode": {
                "name": "ipython",
                "version": 3
            },
            "pygments_lexer": "ipython3",
            "nbconvert_exporter": "python",
            "file_extension": ".py"
        }
    },
    "nbformat_minor": 2,
    "nbformat": 4,
    "cells": [
        {
            "cell_type": "markdown",
            "source": [
                "# data upload"
            ],
            "metadata": {
                "azdata_cell_guid": "3d56cbc7-3d28-4050-8948-fcd8047b2342"
            }
        },
        {
            "cell_type": "code",
            "source": [
                "import os\r\n",
                "base = os.path.join('C:\\\\', 'Users', 'steve', 'Documents', 'reliant-scrape')\r\n",
                "os.chdir(base)"
            ],
            "metadata": {
                "azdata_cell_guid": "f7c01992-ebc7-401c-8231-09950f290e9e"
            },
            "outputs": [],
            "execution_count": 27
        },
        {
            "cell_type": "code",
            "source": [
                "from sqlalchemy import create_engine, types\n",
                "from datetime import datetime, timedelta\n",
                "from IPython.display import display\n",
                "import matplotlib.pyplot as plt\n",
                "import reliant_scrape as rs\n",
                "import pyodbc\n",
                "import pandas as pd\n",
                "import numpy as np\n",
                "import pprint\n",
                "import yaml\n",
                "import json\n",
                "import sys\n",
                "import os\n",
                "\n",
                "base = os.path.join('C:\\\\', 'Users', 'steve', 'Documents', 'reliant-scrape')\n",
                "data = os.path.join(base, 'data')\n",
                "pp = pprint.PrettyPrinter(indent = 1)\n",
                "\n",
                "with open('config.yaml', 'r') as f:\n",
                "    config = yaml.load(f, Loader = yaml.FullLoader)\n",
                "        \n",
                "with open('db_creds.json', 'r') as f:\n",
                "    db_creds = json.load(f)\n",
                "    \n",
                "print('loaded credentials & imported modules.')"
            ],
            "metadata": {
                "azdata_cell_guid": "166b05ee-8994-49fa-8fd7-ee6df44f25b9"
            },
            "outputs": [
{
    "name": "stdout",
    "text": "loaded credentials & imported modules.\n",
    "output_type": "stream"
}
],
            "execution_count": 24
        },
        {
            "cell_type": "code",
            "source": [
                "mydata = rs.sql_query(\"\"\"SELECT * FROM reliant_energy_db.daily_use\"\"\", db_creds)"
            ],
            "metadata": {
                "azdata_cell_guid": "2d1b26f0-75ba-4777-8854-13d57c57eb72"
            },
            "outputs": [
{
    "traceback": [
        "\u001b[1;31m---------------------------------------------------------------------------\u001b[0m",
        "\u001b[1;31mAttributeError\u001b[0m                            Traceback (most recent call last)",
        "\u001b[1;32m<ipython-input-30-b7fe95553235>\u001b[0m in \u001b[0;36m<module>\u001b[1;34m\u001b[0m\n\u001b[1;32m----> 1\u001b[1;33m \u001b[0mmydata\u001b[0m \u001b[1;33m=\u001b[0m \u001b[0mrs\u001b[0m\u001b[1;33m.\u001b[0m\u001b[0msql_query\u001b[0m\u001b[1;33m(\u001b[0m\u001b[1;34m\"\"\"SELECT * FROM reliant_energy_db.daily_use\"\"\"\u001b[0m\u001b[1;33m,\u001b[0m \u001b[0mdb_creds\u001b[0m\u001b[1;33m)\u001b[0m\u001b[1;33m\u001b[0m\u001b[1;33m\u001b[0m\u001b[0m\n\u001b[0m",
        "\u001b[1;31mAttributeError\u001b[0m: module 'reliant_scrape' has no attribute 'sql_query'"
    ],
    "ename": "AttributeError",
    "evalue": "module 'reliant_scrape' has no attribute 'sql_query'",
    "output_type": "error"
}
],
            "execution_count": 26
        },
        {
            "cell_type": "code",
            "source": [
                "os.chdir(data)\n",
                "stage = pd.read_csv('master_usage_02212021.csv')\n",
                "stage['Date'] = pd.to_datetime(stage['Date'])"
            ],
            "metadata": {
                "azdata_cell_guid": "41f22e4b-3f9f-4320-91dd-db96c2b06082"
            },
            "outputs": [],
            "execution_count": 6
        },
        {
            "cell_type": "code",
            "source": [
                "result = rs.mysql_query(\"\"\"SELECT MIN(Date) as min_date, MAX(Date) as max_date, COUNT(*) as count \n",
                "                    FROM reliant_energy_db.daily_use\"\"\", db_creds)"
            ],
            "metadata": {
                "azdata_cell_guid": "e28d4ad3-c293-4af4-8fca-7bfdaebf797a"
            },
            "outputs": [],
            "execution_count": 22
        },
        {
            "cell_type": "code",
            "source": [
                "recent = [d > result.max_date[0] for d in stage.Date]\n",
                "merge = stage.iloc[recent,:]"
            ],
            "metadata": {
                "azdata_cell_guid": "da668d91-05f0-4cef-9a1a-8671c41b4e45"
            },
            "outputs": [],
            "execution_count": 23
        },
        {
            "cell_type": "code",
            "source": [
                "stage"
            ],
            "metadata": {
                "azdata_cell_guid": "bfe05085-e4f4-4dde-a6c5-98ef5a6855f9"
            },
            "outputs": [
                {
                    "data": {
                        "text/plain": "                    Date  Usage (kWh)  Cost ($)  Hi  Low\n0    2020-08-25 00:00:00          1.1      0.13  94   79\n1    2020-08-25 01:00:00          1.2      0.14  94   79\n2    2020-08-25 02:00:00          1.0      0.12  94   79\n3    2020-08-25 03:00:00          1.0      0.12  94   79\n4    2020-08-25 04:00:00          1.5      0.18  94   79\n...                  ...          ...       ...  ..  ...\n4267 2021-02-19 19:00:00          0.5      0.06  50   27\n4268 2021-02-19 20:00:00          0.5      0.06  50   27\n4269 2021-02-19 21:00:00          0.5      0.07  50   27\n4270 2021-02-19 22:00:00          0.5      0.06  50   27\n4271 2021-02-19 23:00:00          0.5      0.06  50   27\n\n[4272 rows x 5 columns]",
                        "text/html": "<div>\n<style scoped>\n    .dataframe tbody tr th:only-of-type {\n        vertical-align: middle;\n    }\n\n    .dataframe tbody tr th {\n        vertical-align: top;\n    }\n\n    .dataframe thead th {\n        text-align: right;\n    }\n</style>\n<table border=\"1\" class=\"dataframe\">\n  <thead>\n    <tr style=\"text-align: right;\">\n      <th></th>\n      <th>Date</th>\n      <th>Usage (kWh)</th>\n      <th>Cost ($)</th>\n      <th>Hi</th>\n      <th>Low</th>\n    </tr>\n  </thead>\n  <tbody>\n    <tr>\n      <th>0</th>\n      <td>2020-08-25 00:00:00</td>\n      <td>1.1</td>\n      <td>0.13</td>\n      <td>94</td>\n      <td>79</td>\n    </tr>\n    <tr>\n      <th>1</th>\n      <td>2020-08-25 01:00:00</td>\n      <td>1.2</td>\n      <td>0.14</td>\n      <td>94</td>\n      <td>79</td>\n    </tr>\n    <tr>\n      <th>2</th>\n      <td>2020-08-25 02:00:00</td>\n      <td>1.0</td>\n      <td>0.12</td>\n      <td>94</td>\n      <td>79</td>\n    </tr>\n    <tr>\n      <th>3</th>\n      <td>2020-08-25 03:00:00</td>\n      <td>1.0</td>\n      <td>0.12</td>\n      <td>94</td>\n      <td>79</td>\n    </tr>\n    <tr>\n      <th>4</th>\n      <td>2020-08-25 04:00:00</td>\n      <td>1.5</td>\n      <td>0.18</td>\n      <td>94</td>\n      <td>79</td>\n    </tr>\n    <tr>\n      <th>...</th>\n      <td>...</td>\n      <td>...</td>\n      <td>...</td>\n      <td>...</td>\n      <td>...</td>\n    </tr>\n    <tr>\n      <th>4267</th>\n      <td>2021-02-19 19:00:00</td>\n      <td>0.5</td>\n      <td>0.06</td>\n      <td>50</td>\n      <td>27</td>\n    </tr>\n    <tr>\n      <th>4268</th>\n      <td>2021-02-19 20:00:00</td>\n      <td>0.5</td>\n      <td>0.06</td>\n      <td>50</td>\n      <td>27</td>\n    </tr>\n    <tr>\n      <th>4269</th>\n      <td>2021-02-19 21:00:00</td>\n      <td>0.5</td>\n      <td>0.07</td>\n      <td>50</td>\n      <td>27</td>\n    </tr>\n    <tr>\n      <th>4270</th>\n      <td>2021-02-19 22:00:00</td>\n      <td>0.5</td>\n      <td>0.06</td>\n      <td>50</td>\n      <td>27</td>\n    </tr>\n    <tr>\n      <th>4271</th>\n      <td>2021-02-19 23:00:00</td>\n      <td>0.5</td>\n      <td>0.06</td>\n      <td>50</td>\n      <td>27</td>\n    </tr>\n  </tbody>\n</table>\n<p>4272 rows × 5 columns</p>\n</div>"
                    },
                    "metadata": {},
                    "execution_count": 7,
                    "output_type": "execute_result"
                }
            ],
            "execution_count": 7
        },
        {
            "cell_type": "code",
            "source": [
                "rs.table_upload(stage, 'raspberrypi', 'reliant_energy', db_creds)\n",
                "print('uploaded data.')"
            ],
            "metadata": {
                "azdata_cell_guid": "82bbd091-e6f0-427a-9389-09bb6c13d30d"
            },
            "outputs": [
                {
                    "name": "stdout",
                    "text": "wrote df to sql table.\nuploaded data.\n",
                    "output_type": "stream"
                }
            ],
            "execution_count": 10
        },
        {
            "cell_type": "code",
            "source": [],
            "metadata": {
                "azdata_cell_guid": "127d97f9-5aed-46e4-85d1-49806c0a08a0"
            },
            "outputs": [],
            "execution_count": null
        }
    ]
}