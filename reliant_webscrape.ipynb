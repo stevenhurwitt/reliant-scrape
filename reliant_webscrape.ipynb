{
 "cells": [
  {
   "cell_type": "markdown",
   "metadata": {},
   "source": [
    "# reliant webscrape"
   ]
  },
  {
   "cell_type": "code",
   "execution_count": 1,
   "metadata": {},
   "outputs": [
    {
     "name": "stdout",
     "output_type": "stream",
     "text": [
      "imported modules.\n"
     ]
    }
   ],
   "source": [
    "from selenium.webdriver.chrome.options import Options\n",
    "from selenium.webdriver.support.ui import Select\n",
    "from selenium.webdriver.common.keys import Keys\n",
    "import selenium.webdriver.support.ui as ui\n",
    "import selenium.webdriver as webdriver\n",
    "from selenium.webdriver import Chrome\n",
    "from datetime import datetime, timedelta\n",
    "import matplotlib.pyplot as plt\n",
    "from bs4 import BeautifulSoup\n",
    "import reliant_scrape as rs\n",
    "import pandas as pd\n",
    "import numpy as np\n",
    "import selenium\n",
    "import html5lib\n",
    "import time\n",
    "import yaml\n",
    "import json\n",
    "import os\n",
    "\n",
    "print('imported modules.')"
   ]
  },
  {
   "cell_type": "markdown",
   "metadata": {},
   "source": [
    "## initialize browser"
   ]
  },
  {
   "cell_type": "code",
   "execution_count": 2,
   "metadata": {},
   "outputs": [
    {
     "name": "stdout",
     "output_type": "stream",
     "text": [
      "logged on successfully.\n"
     ]
    }
   ],
   "source": [
    "with open('config.yaml', 'r') as f:\n",
    "    config = yaml.load(f, Loader = yaml.FullLoader)\n",
    "\n",
    "output = rs.logon(config['headless'], config['download'], config['site'], config['creds'])\n",
    "print('logged on successfully.')\n",
    "\n",
    "time.sleep(10)"
   ]
  },
  {
   "cell_type": "markdown",
   "metadata": {},
   "source": [
    "## scrape user info"
   ]
  },
  {
   "cell_type": "code",
   "execution_count": 3,
   "metadata": {},
   "outputs": [
    {
     "name": "stdout",
     "output_type": "stream",
     "text": [
      "current bill is $0.0.\n",
      "service for STEVEN HURWITT, account 17123855-3 at 2512 MILAM ST #5218, HOUSTON, TX 77006.\n"
     ]
    }
   ],
   "source": [
    "amt, name, acct, address = rs.acct_info(output)\n",
    "\n",
    "print('current bill is ${}.'.format(amt))\n",
    "print('service for {}, account {} at {}.'.format(name, acct, address))"
   ]
  },
  {
   "cell_type": "markdown",
   "metadata": {},
   "source": [
    "## view usage history"
   ]
  },
  {
   "cell_type": "code",
   "execution_count": 4,
   "metadata": {},
   "outputs": [],
   "source": [
    "want_to = output.find_element_by_xpath(\"//select[@id='wantTo']\")\n",
    "options = [x for x in want_to.find_elements_by_tag_name('option')]\n",
    "options_text = [x.text for x in want_to.find_elements_by_tag_name('option')]\n",
    "\n",
    "Select(want_to).select_by_visible_text('View usage history')\n",
    "time.sleep(5)"
   ]
  },
  {
   "cell_type": "markdown",
   "metadata": {},
   "source": [
    "## get daily usage data"
   ]
  },
  {
   "cell_type": "code",
   "execution_count": 5,
   "metadata": {},
   "outputs": [
    {
     "name": "stdout",
     "output_type": "stream",
     "text": [
      "September 27, 2020 had usage of 42.8 kWh and cost $5.08.\n",
      "September 28, 2020 had usage of 41.2 kWh and cost $4.92.\n",
      "September 29, 2020 had usage of 34.6 kWh and cost $4.21.\n",
      "September 30, 2020 had usage of 34.6 kWh and cost $4.23.\n",
      "October 01, 2020 had usage of 36.1 kWh and cost $4.42.\n",
      "October 02, 2020 had usage of 39.9 kWh and cost $4.86.\n",
      "October 02, 2020 had usage of 39.9 kWh and cost $4.86.\n",
      "October 03, 2020 had usage of 0 kWh and cost $0.\n",
      "out of days.\n"
     ]
    }
   ],
   "source": [
    "master = pd.DataFrame()\n",
    "\n",
    "data, date, var = rs.get_daily_use(output)\n",
    "start_date = date\n",
    "\n",
    "try:\n",
    "    var.find_element_by_id('nextid').click() #click to next day\n",
    "    time.sleep(2)\n",
    "\n",
    "except:\n",
    "    print('out of days.')\n",
    "\n",
    "while start_date < datetime.today():\n",
    "    \n",
    "    time.sleep(5)\n",
    "    data, date, var = rs.get_daily_use(output)\n",
    "    start_date += timedelta(days = 1)\n",
    "    \n",
    "    if data.shape[0] > 0:\n",
    "        master = pd.concat([master, data], axis = 0)\n",
    "    \n",
    "    try:\n",
    "        var.find_element_by_id('nextid').click() #click to next day\n",
    "        time.sleep(2)\n",
    "\n",
    "    except:\n",
    "        print('out of days.')"
   ]
  },
  {
   "cell_type": "markdown",
   "metadata": {},
   "source": [
    "## write to .csv"
   ]
  },
  {
   "cell_type": "code",
   "execution_count": 6,
   "metadata": {},
   "outputs": [
    {
     "name": "stdout",
     "output_type": "stream",
     "text": [
      "wrote data to .csv\n"
     ]
    }
   ],
   "source": [
    "base = os.getcwd()\n",
    "date_string = datetime.strftime(datetime.today(), format = '%m%d%Y')\n",
    "fname = 'daily_usage_' + date_string + '.csv'\n",
    "filepath = os.path.join(base, 'data', fname)\n",
    "master.to_csv(filepath)\n",
    "print('wrote data to .csv')"
   ]
  },
  {
   "cell_type": "markdown",
   "metadata": {},
   "source": [
    "## plot"
   ]
  },
  {
   "cell_type": "code",
   "execution_count": 7,
   "metadata": {},
   "outputs": [
    {
     "data": {
      "text/plain": [
       "<AxesSubplot:xlabel='Date'>"
      ]
     },
     "execution_count": 7,
     "metadata": {},
     "output_type": "execute_result"
    },
    {
     "data": {
      "image/png": "[encoded data removed]",
      "text/plain": [
       "<Figure size 432x288 with 1 Axes>"
      ]
     },
     "metadata": {
      "needs_background": "light"
     },
     "output_type": "display_data"
    }
   ],
   "source": [
    "master.plot(y = 'Usage (kWh)')"
   ]
  },
  {
   "cell_type": "code",
   "execution_count": null,
   "metadata": {},
   "outputs": [],
   "source": []
  }
 ],
 "metadata": {
  "kernelspec": {
   "display_name": "reliant-37",
   "language": "python",
   "name": "reliant-37"
  },
  "language_info": {
   "codemirror_mode": {
    "name": "ipython",
    "version": 3
   },
   "file_extension": ".py",
   "mimetype": "text/x-python",
   "name": "python",
   "nbconvert_exporter": "python",
   "pygments_lexer": "ipython3",
   "version": "3.7.9"
  }
 },
 "nbformat": 4,
 "nbformat_minor": 4
}
